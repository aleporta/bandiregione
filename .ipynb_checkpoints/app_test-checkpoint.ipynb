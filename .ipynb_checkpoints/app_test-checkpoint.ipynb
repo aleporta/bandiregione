{
 "cells": [
  {
   "cell_type": "markdown",
   "metadata": {
    "id": "VZOcJNO-5dTp"
   },
   "source": [
    "## Import and setup"
   ]
  },
  {
   "cell_type": "code",
   "execution_count": 1,
   "metadata": {
    "executionInfo": {
     "elapsed": 8,
     "status": "ok",
     "timestamp": 1622724176167,
     "user": {
      "displayName": "Alessandro Portaluppi",
      "photoUrl": "https://lh3.googleusercontent.com/a-/AOh14GhE_rMXzi9qhArC8wQQyX9DixCEEs0oiXsP9wUF=s64",
      "userId": "17342511418312078933"
     },
     "user_tz": -120
    },
    "id": "fAm6fEHN5Xmk"
   },
   "outputs": [],
   "source": [
    "import pandas as pd\n",
    "import numpy as np\n",
    "import pickle\n",
    "import warnings\n",
    "warnings.filterwarnings('ignore')\n",
    "import PIL\n",
    "from wordcloud import WordCloud\n",
    "import matplotlib.pyplot as plt"
   ]
  },
  {
   "cell_type": "code",
   "execution_count": 6,
   "metadata": {},
   "outputs": [],
   "source": [
    "with open('results/final_pipeline.pickle', 'rb') as file:\n",
    "    pipeline = pickle.load(file)\n",
    "data = pd.read_csv('results/cleaned.csv')"
   ]
  },
  {
   "cell_type": "code",
   "execution_count": 7,
   "metadata": {},
   "outputs": [],
   "source": [
    "data.fillna(value = '', inplace=True)"
   ]
  },
  {
   "cell_type": "markdown",
   "metadata": {},
   "source": [
    "## analisi separata"
   ]
  },
  {
   "cell_type": "code",
   "execution_count": 8,
   "metadata": {},
   "outputs": [
    {
     "name": "stdout",
     "output_type": "stream",
     "text": [
      "------- bandi online -------\n",
      "\t Positive\n",
      "facile\n",
      "ottimo\n",
      "veloce\n",
      "chiaro\n",
      "ben\n",
      "bene\n",
      "ottima\n",
      "buona\n",
      "chiara\n",
      "gestione\n",
      "\t Negative\n",
      "non\n",
      "troppo\n",
      "poco\n",
      "complessa\n",
      "complicato\n",
      "difficile\n",
      "tempistiche\n",
      "lunghi\n",
      "tempi\n",
      "fase\n",
      "------- siage -------\n",
      "\t Positive\n",
      "chiaro\n",
      "semplice\n",
      "facile\n",
      "ottima\n",
      "funzionale\n",
      "gestione\n",
      "buono\n",
      "aiuto\n",
      "non non_problemi\n",
      "abbastanza\n",
      "\t Negative\n",
      "troppo\n",
      "non\n",
      "complicato\n",
      "complicata\n",
      "poco\n",
      "burocrazia\n",
      "rendicontazione\n",
      "cioè\n",
      "essere\n",
      "sufficientemente intuitivo\n",
      "------- pec-peo -------\n",
      "\t Positive\n",
      "chiaro\n",
      "semplice\n",
      "abbastanza\n",
      "facile\n",
      "comprensibile\n",
      "disponibili\n",
      "buono\n",
      "persone\n",
      "chiarezza\n",
      "stati\n",
      "\t Negative\n",
      "non\n",
      "informazione\n",
      "documenti\n",
      "regolamento chiaro\n",
      "regolamento\n",
      "complesso\n",
      "troppo\n",
      "lunghi\n",
      "bando\n",
      "richiede\n",
      "------- sintesi -------\n",
      "\t Positive\n",
      "gestione\n",
      "non_bandi\n",
      "non_avvezzo non_usare\n",
      "fruibile\n",
      "fruibile non\n",
      "gestione sito\n",
      "non_avvezzo\n",
      "sito fruibile\n",
      "non non_avvezzo\n",
      "non_piattaforme\n",
      "\t Negative\n",
      "validazione liquidazione\n",
      "liquidazione\n",
      "liquidazione ecc\n",
      "lunghe\n",
      "lunghe validazione\n",
      "poco\n",
      "poco chiaro\n",
      "presentazione\n",
      "ecc\n",
      "presentazione bando\n",
      "------- sisco -------\n",
      "too small size\n",
      "-------  -------\n",
      "too small size\n"
     ]
    }
   ],
   "source": [
    "for piattaforma in data['piattaforma'].unique():\n",
    "  print(\"-------\", piattaforma, \"-------\")\n",
    "  temp = data[data['piattaforma'] == piattaforma]\n",
    "  try:\n",
    "    pipeline.fit(temp['commento_p'], temp['target'])\n",
    "  except:\n",
    "    print(\"too small size\")\n",
    "    continue\n",
    "  index_positive = np.argsort(-1*pipeline[1].coef_)[0][: 10]\n",
    "  print(\"\\t Positive\")\n",
    "  for i in index_positive:\n",
    "    print(pipeline[0].get_feature_names()[i])\n",
    "  index_negative = np.argsort(pipeline[1].coef_)[0][: 10]\n",
    "  print(\"\\t Negative\")\n",
    "  for i in index_negative:\n",
    "    print(pipeline[0].get_feature_names()[i])"
   ]
  },
  {
   "cell_type": "code",
   "execution_count": 27,
   "metadata": {},
   "outputs": [
    {
     "data": {
      "text/plain": [
       "<matplotlib.image.AxesImage at 0x1c135c35a90>"
      ]
     },
     "execution_count": 27,
     "metadata": {},
     "output_type": "execute_result"
    },
    {
     "data": {
      "image/png": "[encoded data removed]",
      "image/svg+xml": [
       "<?xml version=\"1.0\" encoding=\"utf-8\" standalone=\"no\"?>\r\n",
       "<!DOCTYPE svg PUBLIC \"-//W3C//DTD SVG 1.1//EN\"\r\n",
       "  \"http://www.w3.org/Graphics/SVG/1.1/DTD/svg11.dtd\">\r\n",
       "<!-- Created with matplotlib (https://matplotlib.org/) -->\r\n",
       "<svg height=\"230.4pt\" version=\"1.1\" viewBox=\"0 0 446.4 230.4\" width=\"446.4pt\" xmlns=\"http://www.w3.org/2000/svg\" xmlns:xlink=\"http://www.w3.org/1999/xlink\">\r\n",
       " <metadata>\r\n",
       "  <rdf:RDF xmlns:cc=\"http://creativecommons.org/ns#\" xmlns:dc=\"http://purl.org/dc/elements/1.1/\" xmlns:rdf=\"http://www.w3.org/1999/02/22-rdf-syntax-ns#\">\r\n",
       "   <cc:Work>\r\n",
       "    <dc:type rdf:resource=\"http://purl.org/dc/dcmitype/StillImage\"/>\r\n",
       "    <dc:date>2021-06-03T15:21:49.890851</dc:date>\r\n",
       "    <dc:format>image/svg+xml</dc:format>\r\n",
       "    <dc:creator>\r\n",
       "     <cc:Agent>\r\n",
       "      <dc:title>Matplotlib v3.3.4, https://matplotlib.org/</dc:title>\r\n",
       "     </cc:Agent>\r\n",
       "    </dc:creator>\r\n",
       "   </cc:Work>\r\n",
       "  </rdf:RDF>\r\n",
       " </metadata>\r\n",
       " <defs>\r\n",
       "  <style type=\"text/css\">*{stroke-linecap:butt;stroke-linejoin:round;}</style>\r\n",
       " </defs>\r\n",
       " <g id=\"figure_1\">\r\n",
       "  <g id=\"patch_1\">\r\n",
       "   <path d=\"M 0 230.4 \r\n",
       "L 446.4 230.4 \r\n",
       "L 446.4 0 \r\n",
       "L 0 0 \r\n",
       "z\r\n",
       "\" style=\"fill:none;\"/>\r\n",
       "  </g>\r\n",
       "  <g id=\"axes_1\">\r\n",
       "   <g clip-path=\"url(#pf6b76b0bee)\">\r\n",
       "    <image height=\"216\" id=\"image5c71d4e55a\" transform=\"scale(1 -1)translate(0 -216)\" width=\"432\" x=\"7.2\" xlink:href=\"data:image/png;base64,\r\n",
       "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\" y=\"-7.2\"/>\r\n",
       "   </g>\r\n",
       "  </g>\r\n",
       " </g>\r\n",
       " <defs>\r\n",
       "  <clipPath id=\"pf6b76b0bee\">\r\n",
       "   <rect height=\"216\" width=\"432\" x=\"7.2\" y=\"7.2\"/>\r\n",
       "  </clipPath>\r\n",
       " </defs>\r\n",
       "</svg>\r\n"
      ],
      "text/plain": [
       "<Figure size 432x288 with 1 Axes>"
      ]
     },
     "metadata": {
      "needs_background": "light"
     },
     "output_type": "display_data"
    }
   ],
   "source": [
    "wordcloud = WordCloud(background_color='white').generate(\"ciao come va\")\n",
    "plt.axis(\"off\")\n",
    "#plt.figure( figsize = (15, 10))\n",
    "plt.tight_layout(pad = 0)\n",
    "plt.imshow(wordcloud, interpolation = 'bilinear')"
   ]
  },
  {
   "cell_type": "code",
   "execution_count": 9,
   "metadata": {},
   "outputs": [
    {
     "data": {
      "text/html": [
       "<div>\n",
       "<style scoped>\n",
       "    .dataframe tbody tr th:only-of-type {\n",
       "        vertical-align: middle;\n",
       "    }\n",
       "\n",
       "    .dataframe tbody tr th {\n",
       "        vertical-align: top;\n",
       "    }\n",
       "\n",
       "    .dataframe thead th {\n",
       "        text-align: right;\n",
       "    }\n",
       "</style>\n",
       "<table border=\"1\" class=\"dataframe\">\n",
       "  <thead>\n",
       "    <tr style=\"text-align: right;\">\n",
       "      <th></th>\n",
       "      <th>bando</th>\n",
       "      <th>piattaforma</th>\n",
       "      <th>commento_p</th>\n",
       "      <th>target</th>\n",
       "    </tr>\n",
       "  </thead>\n",
       "  <tbody>\n",
       "    <tr>\n",
       "      <th>0</th>\n",
       "      <td>faber i ed</td>\n",
       "      <td>bandi online</td>\n",
       "      <td>troppe informazioni ripetere moduli facilmente...</td>\n",
       "      <td>0</td>\n",
       "    </tr>\n",
       "    <tr>\n",
       "      <th>1</th>\n",
       "      <td>e di nuovo sport</td>\n",
       "      <td>bandi online</td>\n",
       "      <td>facile comprensibile utilizzo</td>\n",
       "      <td>1</td>\n",
       "    </tr>\n",
       "    <tr>\n",
       "      <th>2</th>\n",
       "      <td>smaltimento amianto anno 2019</td>\n",
       "      <td>bandi online</td>\n",
       "      <td>non non_ricevuto non_risposta non_richiesta no...</td>\n",
       "      <td>0</td>\n",
       "    </tr>\n",
       "    <tr>\n",
       "      <th>3</th>\n",
       "      <td>musei 2016</td>\n",
       "      <td>siage</td>\n",
       "      <td>non non_automatismi non_sistema non_funzionano...</td>\n",
       "      <td>0</td>\n",
       "    </tr>\n",
       "    <tr>\n",
       "      <th>4</th>\n",
       "      <td>rinnova autoveicoli</td>\n",
       "      <td>bandi online</td>\n",
       "      <td>non non_chiari non_percorsi non_operare non_pa...</td>\n",
       "      <td>0</td>\n",
       "    </tr>\n",
       "  </tbody>\n",
       "</table>\n",
       "</div>"
      ],
      "text/plain": [
       "                           bando   piattaforma  \\\n",
       "0                     faber i ed  bandi online   \n",
       "1               e di nuovo sport  bandi online   \n",
       "2  smaltimento amianto anno 2019  bandi online   \n",
       "3                     musei 2016         siage   \n",
       "4            rinnova autoveicoli  bandi online   \n",
       "\n",
       "                                          commento_p  target  \n",
       "0  troppe informazioni ripetere moduli facilmente...       0  \n",
       "1                      facile comprensibile utilizzo       1  \n",
       "2  non non_ricevuto non_risposta non_richiesta no...       0  \n",
       "3  non non_automatismi non_sistema non_funzionano...       0  \n",
       "4  non non_chiari non_percorsi non_operare non_pa...       0  "
      ]
     },
     "execution_count": 9,
     "metadata": {},
     "output_type": "execute_result"
    }
   ],
   "source": [
    "data.head()"
   ]
  },
  {
   "cell_type": "code",
   "execution_count": 24,
   "metadata": {},
   "outputs": [
    {
     "data": {
      "image/png": "[encoded data removed]",
      "text/plain": [
       "<Figure size 432x288 with 1 Axes>"
      ]
     },
     "metadata": {},
     "output_type": "display_data"
    }
   ],
   "source": [
    "npositive = len(data[data['target'] == 1])\n",
    "y = np.array([npositive, len(data) - npositive])\n",
    "mylabels = [\"Commenti positivi\", \"Commenti negativi\"]\n",
    "colors = ['#32a897', '#a87b32']\n",
    "\n",
    "plt.pie(y, labels = mylabels, colors = colors, explode = [0.1, 0.1])\n",
    "plt.show() "
   ]
  }
 ],
 "metadata": {
  "colab": {
   "authorship_tag": "ABX9TyOs9TLyJY5nyBujjF/C4Bac",
   "name": "app_test.ipynb",
   "provenance": []
  },
  "kernelspec": {
   "display_name": "Python 3",
   "language": "python",
   "name": "python3"
  },
  "language_info": {
   "codemirror_mode": {
    "name": "ipython",
    "version": 3
   },
   "file_extension": ".py",
   "mimetype": "text/x-python",
   "name": "python",
   "nbconvert_exporter": "python",
   "pygments_lexer": "ipython3",
   "version": "3.8.5"
  }
 },
 "nbformat": 4,
 "nbformat_minor": 4
}
