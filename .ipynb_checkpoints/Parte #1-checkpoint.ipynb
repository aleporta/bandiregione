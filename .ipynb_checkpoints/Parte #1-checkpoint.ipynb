{
 "cells": [
  {
   "cell_type": "markdown",
   "metadata": {
    "id": "IafdvnohcRgS"
   },
   "source": [
    "## Import and setup"
   ]
  },
  {
   "cell_type": "code",
   "execution_count": 1,
   "metadata": {
    "executionInfo": {
     "elapsed": 344,
     "status": "ok",
     "timestamp": 1622722385420,
     "user": {
      "displayName": "Alessandro Portaluppi",
      "photoUrl": "https://lh3.googleusercontent.com/a-/AOh14GhE_rMXzi9qhArC8wQQyX9DixCEEs0oiXsP9wUF=s64",
      "userId": "17342511418312078933"
     },
     "user_tz": -120
    },
    "id": "G7m2RK03cDyK"
   },
   "outputs": [],
   "source": [
    "#base\n",
    "import pandas as pd\n",
    "import numpy as np\n",
    "import re"
   ]
  },
  {
   "cell_type": "code",
   "execution_count": 3,
   "metadata": {
    "executionInfo": {
     "elapsed": 805,
     "status": "ok",
     "timestamp": 1622722392013,
     "user": {
      "displayName": "Alessandro Portaluppi",
      "photoUrl": "https://lh3.googleusercontent.com/a-/AOh14GhE_rMXzi9qhArC8wQQyX9DixCEEs0oiXsP9wUF=s64",
      "userId": "17342511418312078933"
     },
     "user_tz": -120
    },
    "id": "WtYPMKG_w6fr"
   },
   "outputs": [],
   "source": [
    "#text preprocessing\n",
    "import nltk\n",
    "from nltk.corpus import stopwords\n",
    "from nltk.tokenize import word_tokenize"
   ]
  },
  {
   "cell_type": "code",
   "execution_count": 5,
   "metadata": {
    "colab": {
     "base_uri": "https://localhost:8080/"
    },
    "executionInfo": {
     "elapsed": 26,
     "status": "ok",
     "timestamp": 1622722393479,
     "user": {
      "displayName": "Alessandro Portaluppi",
      "photoUrl": "https://lh3.googleusercontent.com/a-/AOh14GhE_rMXzi9qhArC8wQQyX9DixCEEs0oiXsP9wUF=s64",
      "userId": "17342511418312078933"
     },
     "user_tz": -120
    },
    "id": "Sn3JAgVBw_UR",
    "outputId": "3786dfbf-4d06-485c-e825-92c700c30ab2"
   },
   "outputs": [
    {
     "name": "stderr",
     "output_type": "stream",
     "text": [
      "[nltk_data] Downloading package stopwords to /home/ale/nltk_data...\n",
      "[nltk_data]   Package stopwords is already up-to-date!\n",
      "[nltk_data] Downloading package punkt to /home/ale/nltk_data...\n",
      "[nltk_data]   Package punkt is already up-to-date!\n"
     ]
    },
    {
     "data": {
      "text/plain": [
       "True"
      ]
     },
     "execution_count": 5,
     "metadata": {},
     "output_type": "execute_result"
    }
   ],
   "source": [
    "nltk.download('stopwords')\n",
    "nltk.download('punkt')"
   ]
  },
  {
   "cell_type": "markdown",
   "metadata": {
    "id": "N9yCUwpdcUsH"
   },
   "source": [
    "## Data Ingestion"
   ]
  },
  {
   "cell_type": "code",
   "execution_count": 6,
   "metadata": {
    "colab": {
     "base_uri": "https://localhost:8080/",
     "height": 0
    },
    "executionInfo": {
     "elapsed": 17452,
     "status": "ok",
     "timestamp": 1622722455428,
     "user": {
      "displayName": "Alessandro Portaluppi",
      "photoUrl": "https://lh3.googleusercontent.com/a-/AOh14GhE_rMXzi9qhArC8wQQyX9DixCEEs0oiXsP9wUF=s64",
      "userId": "17342511418312078933"
     },
     "user_tz": -120
    },
    "id": "01znpjwOcUP2",
    "outputId": "50c0743a-4d72-47a4-ecbd-6172d62799e9"
   },
   "outputs": [
    {
     "ename": "KeyboardInterrupt",
     "evalue": "",
     "output_type": "error",
     "traceback": [
      "\u001b[0;31m---------------------------------------------------------------------------\u001b[0m",
      "\u001b[0;31mKeyboardInterrupt\u001b[0m                         Traceback (most recent call last)",
      "\u001b[0;32m<ipython-input-6-b0dc725eff49>\u001b[0m in \u001b[0;36m<module>\u001b[0;34m\u001b[0m\n\u001b[0;32m----> 1\u001b[0;31m \u001b[0mdata\u001b[0m \u001b[0;34m=\u001b[0m \u001b[0mpd\u001b[0m\u001b[0;34m.\u001b[0m\u001b[0mread_csv\u001b[0m\u001b[0;34m(\u001b[0m\u001b[0;34m'https://www.dati.lombardia.it/api/views/xwm8-byxq/rows.csv'\u001b[0m\u001b[0;34m)\u001b[0m\u001b[0;34m\u001b[0m\u001b[0;34m\u001b[0m\u001b[0m\n\u001b[0m\u001b[1;32m      2\u001b[0m \u001b[0mdata\u001b[0m\u001b[0;34m.\u001b[0m\u001b[0minfo\u001b[0m\u001b[0;34m(\u001b[0m\u001b[0;34m)\u001b[0m\u001b[0;34m\u001b[0m\u001b[0;34m\u001b[0m\u001b[0m\n\u001b[1;32m      3\u001b[0m \u001b[0mdata\u001b[0m\u001b[0;34m.\u001b[0m\u001b[0mhead\u001b[0m\u001b[0;34m(\u001b[0m\u001b[0;34m)\u001b[0m\u001b[0;34m\u001b[0m\u001b[0;34m\u001b[0m\u001b[0m\n",
      "\u001b[0;32m~/.local/lib/python3.8/site-packages/pandas/io/parsers.py\u001b[0m in \u001b[0;36mread_csv\u001b[0;34m(filepath_or_buffer, sep, delimiter, header, names, index_col, usecols, squeeze, prefix, mangle_dupe_cols, dtype, engine, converters, true_values, false_values, skipinitialspace, skiprows, skipfooter, nrows, na_values, keep_default_na, na_filter, verbose, skip_blank_lines, parse_dates, infer_datetime_format, keep_date_col, date_parser, dayfirst, cache_dates, iterator, chunksize, compression, thousands, decimal, lineterminator, quotechar, quoting, doublequote, escapechar, comment, encoding, dialect, error_bad_lines, warn_bad_lines, delim_whitespace, low_memory, memory_map, float_precision, storage_options)\u001b[0m\n\u001b[1;32m    608\u001b[0m     \u001b[0mkwds\u001b[0m\u001b[0;34m.\u001b[0m\u001b[0mupdate\u001b[0m\u001b[0;34m(\u001b[0m\u001b[0mkwds_defaults\u001b[0m\u001b[0;34m)\u001b[0m\u001b[0;34m\u001b[0m\u001b[0;34m\u001b[0m\u001b[0m\n\u001b[1;32m    609\u001b[0m \u001b[0;34m\u001b[0m\u001b[0m\n\u001b[0;32m--> 610\u001b[0;31m     \u001b[0;32mreturn\u001b[0m \u001b[0m_read\u001b[0m\u001b[0;34m(\u001b[0m\u001b[0mfilepath_or_buffer\u001b[0m\u001b[0;34m,\u001b[0m \u001b[0mkwds\u001b[0m\u001b[0;34m)\u001b[0m\u001b[0;34m\u001b[0m\u001b[0;34m\u001b[0m\u001b[0m\n\u001b[0m\u001b[1;32m    611\u001b[0m \u001b[0;34m\u001b[0m\u001b[0m\n\u001b[1;32m    612\u001b[0m \u001b[0;34m\u001b[0m\u001b[0m\n",
      "\u001b[0;32m~/.local/lib/python3.8/site-packages/pandas/io/parsers.py\u001b[0m in \u001b[0;36m_read\u001b[0;34m(filepath_or_buffer, kwds)\u001b[0m\n\u001b[1;32m    460\u001b[0m \u001b[0;34m\u001b[0m\u001b[0m\n\u001b[1;32m    461\u001b[0m     \u001b[0;31m# Create the parser.\u001b[0m\u001b[0;34m\u001b[0m\u001b[0;34m\u001b[0m\u001b[0;34m\u001b[0m\u001b[0m\n\u001b[0;32m--> 462\u001b[0;31m     \u001b[0mparser\u001b[0m \u001b[0;34m=\u001b[0m \u001b[0mTextFileReader\u001b[0m\u001b[0;34m(\u001b[0m\u001b[0mfilepath_or_buffer\u001b[0m\u001b[0;34m,\u001b[0m \u001b[0;34m**\u001b[0m\u001b[0mkwds\u001b[0m\u001b[0;34m)\u001b[0m\u001b[0;34m\u001b[0m\u001b[0;34m\u001b[0m\u001b[0m\n\u001b[0m\u001b[1;32m    463\u001b[0m \u001b[0;34m\u001b[0m\u001b[0m\n\u001b[1;32m    464\u001b[0m     \u001b[0;32mif\u001b[0m \u001b[0mchunksize\u001b[0m \u001b[0;32mor\u001b[0m \u001b[0miterator\u001b[0m\u001b[0;34m:\u001b[0m\u001b[0;34m\u001b[0m\u001b[0;34m\u001b[0m\u001b[0m\n",
      "\u001b[0;32m~/.local/lib/python3.8/site-packages/pandas/io/parsers.py\u001b[0m in \u001b[0;36m__init__\u001b[0;34m(self, f, engine, **kwds)\u001b[0m\n\u001b[1;32m    817\u001b[0m             \u001b[0mself\u001b[0m\u001b[0;34m.\u001b[0m\u001b[0moptions\u001b[0m\u001b[0;34m[\u001b[0m\u001b[0;34m\"has_index_names\"\u001b[0m\u001b[0;34m]\u001b[0m \u001b[0;34m=\u001b[0m \u001b[0mkwds\u001b[0m\u001b[0;34m[\u001b[0m\u001b[0;34m\"has_index_names\"\u001b[0m\u001b[0;34m]\u001b[0m\u001b[0;34m\u001b[0m\u001b[0;34m\u001b[0m\u001b[0m\n\u001b[1;32m    818\u001b[0m \u001b[0;34m\u001b[0m\u001b[0m\n\u001b[0;32m--> 819\u001b[0;31m         \u001b[0mself\u001b[0m\u001b[0;34m.\u001b[0m\u001b[0m_engine\u001b[0m \u001b[0;34m=\u001b[0m \u001b[0mself\u001b[0m\u001b[0;34m.\u001b[0m\u001b[0m_make_engine\u001b[0m\u001b[0;34m(\u001b[0m\u001b[0mself\u001b[0m\u001b[0;34m.\u001b[0m\u001b[0mengine\u001b[0m\u001b[0;34m)\u001b[0m\u001b[0;34m\u001b[0m\u001b[0;34m\u001b[0m\u001b[0m\n\u001b[0m\u001b[1;32m    820\u001b[0m \u001b[0;34m\u001b[0m\u001b[0m\n\u001b[1;32m    821\u001b[0m     \u001b[0;32mdef\u001b[0m \u001b[0mclose\u001b[0m\u001b[0;34m(\u001b[0m\u001b[0mself\u001b[0m\u001b[0;34m)\u001b[0m\u001b[0;34m:\u001b[0m\u001b[0;34m\u001b[0m\u001b[0;34m\u001b[0m\u001b[0m\n",
      "\u001b[0;32m~/.local/lib/python3.8/site-packages/pandas/io/parsers.py\u001b[0m in \u001b[0;36m_make_engine\u001b[0;34m(self, engine)\u001b[0m\n\u001b[1;32m   1048\u001b[0m             )\n\u001b[1;32m   1049\u001b[0m         \u001b[0;31m# error: Too many arguments for \"ParserBase\"\u001b[0m\u001b[0;34m\u001b[0m\u001b[0;34m\u001b[0m\u001b[0;34m\u001b[0m\u001b[0m\n\u001b[0;32m-> 1050\u001b[0;31m         \u001b[0;32mreturn\u001b[0m \u001b[0mmapping\u001b[0m\u001b[0;34m[\u001b[0m\u001b[0mengine\u001b[0m\u001b[0;34m]\u001b[0m\u001b[0;34m(\u001b[0m\u001b[0mself\u001b[0m\u001b[0;34m.\u001b[0m\u001b[0mf\u001b[0m\u001b[0;34m,\u001b[0m \u001b[0;34m**\u001b[0m\u001b[0mself\u001b[0m\u001b[0;34m.\u001b[0m\u001b[0moptions\u001b[0m\u001b[0;34m)\u001b[0m  \u001b[0;31m# type: ignore[call-arg]\u001b[0m\u001b[0;34m\u001b[0m\u001b[0;34m\u001b[0m\u001b[0m\n\u001b[0m\u001b[1;32m   1051\u001b[0m \u001b[0;34m\u001b[0m\u001b[0m\n\u001b[1;32m   1052\u001b[0m     \u001b[0;32mdef\u001b[0m \u001b[0m_failover_to_python\u001b[0m\u001b[0;34m(\u001b[0m\u001b[0mself\u001b[0m\u001b[0;34m)\u001b[0m\u001b[0;34m:\u001b[0m\u001b[0;34m\u001b[0m\u001b[0;34m\u001b[0m\u001b[0m\n",
      "\u001b[0;32m~/.local/lib/python3.8/site-packages/pandas/io/parsers.py\u001b[0m in \u001b[0;36m__init__\u001b[0;34m(self, src, **kwds)\u001b[0m\n\u001b[1;32m   1865\u001b[0m \u001b[0;34m\u001b[0m\u001b[0m\n\u001b[1;32m   1866\u001b[0m         \u001b[0;31m# open handles\u001b[0m\u001b[0;34m\u001b[0m\u001b[0;34m\u001b[0m\u001b[0;34m\u001b[0m\u001b[0m\n\u001b[0;32m-> 1867\u001b[0;31m         \u001b[0mself\u001b[0m\u001b[0;34m.\u001b[0m\u001b[0m_open_handles\u001b[0m\u001b[0;34m(\u001b[0m\u001b[0msrc\u001b[0m\u001b[0;34m,\u001b[0m \u001b[0mkwds\u001b[0m\u001b[0;34m)\u001b[0m\u001b[0;34m\u001b[0m\u001b[0;34m\u001b[0m\u001b[0m\n\u001b[0m\u001b[1;32m   1868\u001b[0m         \u001b[0;32massert\u001b[0m \u001b[0mself\u001b[0m\u001b[0;34m.\u001b[0m\u001b[0mhandles\u001b[0m \u001b[0;32mis\u001b[0m \u001b[0;32mnot\u001b[0m \u001b[0;32mNone\u001b[0m\u001b[0;34m\u001b[0m\u001b[0;34m\u001b[0m\u001b[0m\n\u001b[1;32m   1869\u001b[0m         \u001b[0;32mfor\u001b[0m \u001b[0mkey\u001b[0m \u001b[0;32min\u001b[0m \u001b[0;34m(\u001b[0m\u001b[0;34m\"storage_options\"\u001b[0m\u001b[0;34m,\u001b[0m \u001b[0;34m\"encoding\"\u001b[0m\u001b[0;34m,\u001b[0m \u001b[0;34m\"memory_map\"\u001b[0m\u001b[0;34m,\u001b[0m \u001b[0;34m\"compression\"\u001b[0m\u001b[0;34m)\u001b[0m\u001b[0;34m:\u001b[0m\u001b[0;34m\u001b[0m\u001b[0;34m\u001b[0m\u001b[0m\n",
      "\u001b[0;32m~/.local/lib/python3.8/site-packages/pandas/io/parsers.py\u001b[0m in \u001b[0;36m_open_handles\u001b[0;34m(self, src, kwds)\u001b[0m\n\u001b[1;32m   1360\u001b[0m         \u001b[0mLet\u001b[0m \u001b[0mthe\u001b[0m \u001b[0mreaders\u001b[0m \u001b[0mopen\u001b[0m \u001b[0mIOHanldes\u001b[0m \u001b[0mafter\u001b[0m \u001b[0mthey\u001b[0m \u001b[0mare\u001b[0m \u001b[0mdone\u001b[0m \u001b[0;32mwith\u001b[0m \u001b[0mtheir\u001b[0m \u001b[0mpotential\u001b[0m \u001b[0mraises\u001b[0m\u001b[0;34m.\u001b[0m\u001b[0;34m\u001b[0m\u001b[0;34m\u001b[0m\u001b[0m\n\u001b[1;32m   1361\u001b[0m         \"\"\"\n\u001b[0;32m-> 1362\u001b[0;31m         self.handles = get_handle(\n\u001b[0m\u001b[1;32m   1363\u001b[0m             \u001b[0msrc\u001b[0m\u001b[0;34m,\u001b[0m\u001b[0;34m\u001b[0m\u001b[0;34m\u001b[0m\u001b[0m\n\u001b[1;32m   1364\u001b[0m             \u001b[0;34m\"r\"\u001b[0m\u001b[0;34m,\u001b[0m\u001b[0;34m\u001b[0m\u001b[0;34m\u001b[0m\u001b[0m\n",
      "\u001b[0;32m~/.local/lib/python3.8/site-packages/pandas/io/common.py\u001b[0m in \u001b[0;36mget_handle\u001b[0;34m(path_or_buf, mode, encoding, compression, memory_map, is_text, errors, storage_options)\u001b[0m\n\u001b[1;32m    556\u001b[0m \u001b[0;34m\u001b[0m\u001b[0m\n\u001b[1;32m    557\u001b[0m     \u001b[0;31m# open URLs\u001b[0m\u001b[0;34m\u001b[0m\u001b[0;34m\u001b[0m\u001b[0;34m\u001b[0m\u001b[0m\n\u001b[0;32m--> 558\u001b[0;31m     ioargs = _get_filepath_or_buffer(\n\u001b[0m\u001b[1;32m    559\u001b[0m         \u001b[0mpath_or_buf\u001b[0m\u001b[0;34m,\u001b[0m\u001b[0;34m\u001b[0m\u001b[0;34m\u001b[0m\u001b[0m\n\u001b[1;32m    560\u001b[0m         \u001b[0mencoding\u001b[0m\u001b[0;34m=\u001b[0m\u001b[0mencoding\u001b[0m\u001b[0;34m,\u001b[0m\u001b[0;34m\u001b[0m\u001b[0;34m\u001b[0m\u001b[0m\n",
      "\u001b[0;32m~/.local/lib/python3.8/site-packages/pandas/io/common.py\u001b[0m in \u001b[0;36m_get_filepath_or_buffer\u001b[0;34m(filepath_or_buffer, encoding, compression, mode, storage_options)\u001b[0m\n\u001b[1;32m    292\u001b[0m             \u001b[0;31m# Override compression based on Content-Encoding header\u001b[0m\u001b[0;34m\u001b[0m\u001b[0;34m\u001b[0m\u001b[0;34m\u001b[0m\u001b[0m\n\u001b[1;32m    293\u001b[0m             \u001b[0mcompression\u001b[0m \u001b[0;34m=\u001b[0m \u001b[0;34m{\u001b[0m\u001b[0;34m\"method\"\u001b[0m\u001b[0;34m:\u001b[0m \u001b[0;34m\"gzip\"\u001b[0m\u001b[0;34m}\u001b[0m\u001b[0;34m\u001b[0m\u001b[0;34m\u001b[0m\u001b[0m\n\u001b[0;32m--> 294\u001b[0;31m         \u001b[0mreader\u001b[0m \u001b[0;34m=\u001b[0m \u001b[0mBytesIO\u001b[0m\u001b[0;34m(\u001b[0m\u001b[0mreq\u001b[0m\u001b[0;34m.\u001b[0m\u001b[0mread\u001b[0m\u001b[0;34m(\u001b[0m\u001b[0;34m)\u001b[0m\u001b[0;34m)\u001b[0m\u001b[0;34m\u001b[0m\u001b[0;34m\u001b[0m\u001b[0m\n\u001b[0m\u001b[1;32m    295\u001b[0m         \u001b[0mreq\u001b[0m\u001b[0;34m.\u001b[0m\u001b[0mclose\u001b[0m\u001b[0;34m(\u001b[0m\u001b[0;34m)\u001b[0m\u001b[0;34m\u001b[0m\u001b[0;34m\u001b[0m\u001b[0m\n\u001b[1;32m    296\u001b[0m         return IOArgs(\n",
      "\u001b[0;32m/usr/lib/python3.8/http/client.py\u001b[0m in \u001b[0;36mread\u001b[0;34m(self, amt)\u001b[0m\n\u001b[1;32m    463\u001b[0m \u001b[0;34m\u001b[0m\u001b[0m\n\u001b[1;32m    464\u001b[0m             \u001b[0;32mif\u001b[0m \u001b[0mself\u001b[0m\u001b[0;34m.\u001b[0m\u001b[0mchunked\u001b[0m\u001b[0;34m:\u001b[0m\u001b[0;34m\u001b[0m\u001b[0;34m\u001b[0m\u001b[0m\n\u001b[0;32m--> 465\u001b[0;31m                 \u001b[0;32mreturn\u001b[0m \u001b[0mself\u001b[0m\u001b[0;34m.\u001b[0m\u001b[0m_readall_chunked\u001b[0m\u001b[0;34m(\u001b[0m\u001b[0;34m)\u001b[0m\u001b[0;34m\u001b[0m\u001b[0;34m\u001b[0m\u001b[0m\n\u001b[0m\u001b[1;32m    466\u001b[0m \u001b[0;34m\u001b[0m\u001b[0m\n\u001b[1;32m    467\u001b[0m             \u001b[0;32mif\u001b[0m \u001b[0mself\u001b[0m\u001b[0;34m.\u001b[0m\u001b[0mlength\u001b[0m \u001b[0;32mis\u001b[0m \u001b[0;32mNone\u001b[0m\u001b[0;34m:\u001b[0m\u001b[0;34m\u001b[0m\u001b[0;34m\u001b[0m\u001b[0m\n",
      "\u001b[0;32m/usr/lib/python3.8/http/client.py\u001b[0m in \u001b[0;36m_readall_chunked\u001b[0;34m(self)\u001b[0m\n\u001b[1;32m    573\u001b[0m                 \u001b[0;32mif\u001b[0m \u001b[0mchunk_left\u001b[0m \u001b[0;32mis\u001b[0m \u001b[0;32mNone\u001b[0m\u001b[0;34m:\u001b[0m\u001b[0;34m\u001b[0m\u001b[0;34m\u001b[0m\u001b[0m\n\u001b[1;32m    574\u001b[0m                     \u001b[0;32mbreak\u001b[0m\u001b[0;34m\u001b[0m\u001b[0;34m\u001b[0m\u001b[0m\n\u001b[0;32m--> 575\u001b[0;31m                 \u001b[0mvalue\u001b[0m\u001b[0;34m.\u001b[0m\u001b[0mappend\u001b[0m\u001b[0;34m(\u001b[0m\u001b[0mself\u001b[0m\u001b[0;34m.\u001b[0m\u001b[0m_safe_read\u001b[0m\u001b[0;34m(\u001b[0m\u001b[0mchunk_left\u001b[0m\u001b[0;34m)\u001b[0m\u001b[0;34m)\u001b[0m\u001b[0;34m\u001b[0m\u001b[0;34m\u001b[0m\u001b[0m\n\u001b[0m\u001b[1;32m    576\u001b[0m                 \u001b[0mself\u001b[0m\u001b[0;34m.\u001b[0m\u001b[0mchunk_left\u001b[0m \u001b[0;34m=\u001b[0m \u001b[0;36m0\u001b[0m\u001b[0;34m\u001b[0m\u001b[0;34m\u001b[0m\u001b[0m\n\u001b[1;32m    577\u001b[0m             \u001b[0;32mreturn\u001b[0m \u001b[0;34mb''\u001b[0m\u001b[0;34m.\u001b[0m\u001b[0mjoin\u001b[0m\u001b[0;34m(\u001b[0m\u001b[0mvalue\u001b[0m\u001b[0;34m)\u001b[0m\u001b[0;34m\u001b[0m\u001b[0;34m\u001b[0m\u001b[0m\n",
      "\u001b[0;32m/usr/lib/python3.8/http/client.py\u001b[0m in \u001b[0;36m_safe_read\u001b[0;34m(self, amt)\u001b[0m\n\u001b[1;32m    610\u001b[0m         \u001b[0mIncompleteRead\u001b[0m \u001b[0mexception\u001b[0m \u001b[0mcan\u001b[0m \u001b[0mbe\u001b[0m \u001b[0mused\u001b[0m \u001b[0mto\u001b[0m \u001b[0mdetect\u001b[0m \u001b[0mthe\u001b[0m \u001b[0mproblem\u001b[0m\u001b[0;34m.\u001b[0m\u001b[0;34m\u001b[0m\u001b[0;34m\u001b[0m\u001b[0m\n\u001b[1;32m    611\u001b[0m         \"\"\"\n\u001b[0;32m--> 612\u001b[0;31m         \u001b[0mdata\u001b[0m \u001b[0;34m=\u001b[0m \u001b[0mself\u001b[0m\u001b[0;34m.\u001b[0m\u001b[0mfp\u001b[0m\u001b[0;34m.\u001b[0m\u001b[0mread\u001b[0m\u001b[0;34m(\u001b[0m\u001b[0mamt\u001b[0m\u001b[0;34m)\u001b[0m\u001b[0;34m\u001b[0m\u001b[0;34m\u001b[0m\u001b[0m\n\u001b[0m\u001b[1;32m    613\u001b[0m         \u001b[0;32mif\u001b[0m \u001b[0mlen\u001b[0m\u001b[0;34m(\u001b[0m\u001b[0mdata\u001b[0m\u001b[0;34m)\u001b[0m \u001b[0;34m<\u001b[0m \u001b[0mamt\u001b[0m\u001b[0;34m:\u001b[0m\u001b[0;34m\u001b[0m\u001b[0;34m\u001b[0m\u001b[0m\n\u001b[1;32m    614\u001b[0m             \u001b[0;32mraise\u001b[0m \u001b[0mIncompleteRead\u001b[0m\u001b[0;34m(\u001b[0m\u001b[0mdata\u001b[0m\u001b[0;34m,\u001b[0m \u001b[0mamt\u001b[0m\u001b[0;34m-\u001b[0m\u001b[0mlen\u001b[0m\u001b[0;34m(\u001b[0m\u001b[0mdata\u001b[0m\u001b[0;34m)\u001b[0m\u001b[0;34m)\u001b[0m\u001b[0;34m\u001b[0m\u001b[0;34m\u001b[0m\u001b[0m\n",
      "\u001b[0;32m/usr/lib/python3.8/socket.py\u001b[0m in \u001b[0;36mreadinto\u001b[0;34m(self, b)\u001b[0m\n\u001b[1;32m    667\u001b[0m         \u001b[0;32mwhile\u001b[0m \u001b[0;32mTrue\u001b[0m\u001b[0;34m:\u001b[0m\u001b[0;34m\u001b[0m\u001b[0;34m\u001b[0m\u001b[0m\n\u001b[1;32m    668\u001b[0m             \u001b[0;32mtry\u001b[0m\u001b[0;34m:\u001b[0m\u001b[0;34m\u001b[0m\u001b[0;34m\u001b[0m\u001b[0m\n\u001b[0;32m--> 669\u001b[0;31m                 \u001b[0;32mreturn\u001b[0m \u001b[0mself\u001b[0m\u001b[0;34m.\u001b[0m\u001b[0m_sock\u001b[0m\u001b[0;34m.\u001b[0m\u001b[0mrecv_into\u001b[0m\u001b[0;34m(\u001b[0m\u001b[0mb\u001b[0m\u001b[0;34m)\u001b[0m\u001b[0;34m\u001b[0m\u001b[0;34m\u001b[0m\u001b[0m\n\u001b[0m\u001b[1;32m    670\u001b[0m             \u001b[0;32mexcept\u001b[0m \u001b[0mtimeout\u001b[0m\u001b[0;34m:\u001b[0m\u001b[0;34m\u001b[0m\u001b[0;34m\u001b[0m\u001b[0m\n\u001b[1;32m    671\u001b[0m                 \u001b[0mself\u001b[0m\u001b[0;34m.\u001b[0m\u001b[0m_timeout_occurred\u001b[0m \u001b[0;34m=\u001b[0m \u001b[0;32mTrue\u001b[0m\u001b[0;34m\u001b[0m\u001b[0;34m\u001b[0m\u001b[0m\n",
      "\u001b[0;32m/usr/lib/python3.8/ssl.py\u001b[0m in \u001b[0;36mrecv_into\u001b[0;34m(self, buffer, nbytes, flags)\u001b[0m\n\u001b[1;32m   1239\u001b[0m                   \u001b[0;34m\"non-zero flags not allowed in calls to recv_into() on %s\"\u001b[0m \u001b[0;34m%\u001b[0m\u001b[0;34m\u001b[0m\u001b[0;34m\u001b[0m\u001b[0m\n\u001b[1;32m   1240\u001b[0m                   self.__class__)\n\u001b[0;32m-> 1241\u001b[0;31m             \u001b[0;32mreturn\u001b[0m \u001b[0mself\u001b[0m\u001b[0;34m.\u001b[0m\u001b[0mread\u001b[0m\u001b[0;34m(\u001b[0m\u001b[0mnbytes\u001b[0m\u001b[0;34m,\u001b[0m \u001b[0mbuffer\u001b[0m\u001b[0;34m)\u001b[0m\u001b[0;34m\u001b[0m\u001b[0;34m\u001b[0m\u001b[0m\n\u001b[0m\u001b[1;32m   1242\u001b[0m         \u001b[0;32melse\u001b[0m\u001b[0;34m:\u001b[0m\u001b[0;34m\u001b[0m\u001b[0;34m\u001b[0m\u001b[0m\n\u001b[1;32m   1243\u001b[0m             \u001b[0;32mreturn\u001b[0m \u001b[0msuper\u001b[0m\u001b[0;34m(\u001b[0m\u001b[0;34m)\u001b[0m\u001b[0;34m.\u001b[0m\u001b[0mrecv_into\u001b[0m\u001b[0;34m(\u001b[0m\u001b[0mbuffer\u001b[0m\u001b[0;34m,\u001b[0m \u001b[0mnbytes\u001b[0m\u001b[0;34m,\u001b[0m \u001b[0mflags\u001b[0m\u001b[0;34m)\u001b[0m\u001b[0;34m\u001b[0m\u001b[0;34m\u001b[0m\u001b[0m\n",
      "\u001b[0;32m/usr/lib/python3.8/ssl.py\u001b[0m in \u001b[0;36mread\u001b[0;34m(self, len, buffer)\u001b[0m\n\u001b[1;32m   1097\u001b[0m         \u001b[0;32mtry\u001b[0m\u001b[0;34m:\u001b[0m\u001b[0;34m\u001b[0m\u001b[0;34m\u001b[0m\u001b[0m\n\u001b[1;32m   1098\u001b[0m             \u001b[0;32mif\u001b[0m \u001b[0mbuffer\u001b[0m \u001b[0;32mis\u001b[0m \u001b[0;32mnot\u001b[0m \u001b[0;32mNone\u001b[0m\u001b[0;34m:\u001b[0m\u001b[0;34m\u001b[0m\u001b[0;34m\u001b[0m\u001b[0m\n\u001b[0;32m-> 1099\u001b[0;31m                 \u001b[0;32mreturn\u001b[0m \u001b[0mself\u001b[0m\u001b[0;34m.\u001b[0m\u001b[0m_sslobj\u001b[0m\u001b[0;34m.\u001b[0m\u001b[0mread\u001b[0m\u001b[0;34m(\u001b[0m\u001b[0mlen\u001b[0m\u001b[0;34m,\u001b[0m \u001b[0mbuffer\u001b[0m\u001b[0;34m)\u001b[0m\u001b[0;34m\u001b[0m\u001b[0;34m\u001b[0m\u001b[0m\n\u001b[0m\u001b[1;32m   1100\u001b[0m             \u001b[0;32melse\u001b[0m\u001b[0;34m:\u001b[0m\u001b[0;34m\u001b[0m\u001b[0;34m\u001b[0m\u001b[0m\n\u001b[1;32m   1101\u001b[0m                 \u001b[0;32mreturn\u001b[0m \u001b[0mself\u001b[0m\u001b[0;34m.\u001b[0m\u001b[0m_sslobj\u001b[0m\u001b[0;34m.\u001b[0m\u001b[0mread\u001b[0m\u001b[0;34m(\u001b[0m\u001b[0mlen\u001b[0m\u001b[0;34m)\u001b[0m\u001b[0;34m\u001b[0m\u001b[0;34m\u001b[0m\u001b[0m\n",
      "\u001b[0;31mKeyboardInterrupt\u001b[0m: "
     ]
    }
   ],
   "source": [
    "data = pd.read_csv('https://www.dati.lombardia.it/api/views/xwm8-byxq/rows.csv')\n",
    "data.info()\n",
    "data.head()"
   ]
  },
  {
   "cell_type": "markdown",
   "metadata": {
    "id": "ZglFa9frenEr"
   },
   "source": [
    "## Data cleaning"
   ]
  },
  {
   "cell_type": "code",
   "execution_count": 5,
   "metadata": {
    "colab": {
     "base_uri": "https://localhost:8080/",
     "height": 0
    },
    "executionInfo": {
     "elapsed": 44,
     "status": "ok",
     "timestamp": 1622722455430,
     "user": {
      "displayName": "Alessandro Portaluppi",
      "photoUrl": "https://lh3.googleusercontent.com/a-/AOh14GhE_rMXzi9qhArC8wQQyX9DixCEEs0oiXsP9wUF=s64",
      "userId": "17342511418312078933"
     },
     "user_tz": -120
    },
    "id": "c16p9Cry3sjE",
    "outputId": "de63eeea-3d03-4171-cd6b-a98a6074f170"
   },
   "outputs": [
    {
     "name": "stdout",
     "output_type": "stream",
     "text": [
      "<class 'pandas.core.frame.DataFrame'>\n",
      "Int64Index: 2186 entries, 17 to 131715\n",
      "Data columns (total 83 columns):\n",
      " #   Column                                            Non-Null Count  Dtype  \n",
      "---  ------                                            --------------  -----  \n",
      " 0   ID risposta                                       2186 non-null   int64  \n",
      " 1   Data invio                                        2186 non-null   object \n",
      " 2   Anno                                              2186 non-null   int64  \n",
      " 3   Mese                                              2186 non-null   int64  \n",
      " 4   Piattaforma usata per l'adesione al bando         2185 non-null   object \n",
      " 5   Codice piattaforma usata per l'adesione al bando  2185 non-null   object \n",
      " 6   Codice bando                                      2186 non-null   object \n",
      " 7   Titolo bando                                      2186 non-null   object \n",
      " 8   Fase                                              2186 non-null   object \n",
      " 9   Link_report                                       2186 non-null   object \n",
      " 10  A 1                                               0 non-null      float64\n",
      " 11  A 2.1                                             0 non-null      object \n",
      " 12  A 2.2                                             0 non-null      object \n",
      " 13  A 2.3                                             0 non-null      object \n",
      " 14  A 2.4                                             0 non-null      object \n",
      " 15  A 2.5                                             0 non-null      object \n",
      " 16  A 2.6                                             0 non-null      object \n",
      " 17  A 2.7                                             0 non-null      object \n",
      " 18  A 2.8                                             0 non-null      object \n",
      " 19  A 3                                               0 non-null      float64\n",
      " 20  A 3a.1                                            0 non-null      object \n",
      " 21  A 3a.2                                            0 non-null      object \n",
      " 22  A 3a.3                                            0 non-null      object \n",
      " 23  A 3a.4                                            0 non-null      object \n",
      " 24  A 3a.5                                            0 non-null      object \n",
      " 25  A 3a.6                                            0 non-null      object \n",
      " 26  A 4                                               0 non-null      float64\n",
      " 27  A 5.1                                             0 non-null      object \n",
      " 28  A 5.2                                             0 non-null      object \n",
      " 29  A 5.3                                             0 non-null      object \n",
      " 30  A 5.4                                             0 non-null      object \n",
      " 31  A 5.5                                             0 non-null      object \n",
      " 32  A 5.6                                             0 non-null      object \n",
      " 33  A 5.7                                             0 non-null      object \n",
      " 34  A 5.8                                             0 non-null      object \n",
      " 35  A 6.1                                             0 non-null      object \n",
      " 36  A 6.2                                             0 non-null      object \n",
      " 37  A 6.3                                             0 non-null      object \n",
      " 38  A 6.4                                             0 non-null      object \n",
      " 39  A 6.5                                             0 non-null      object \n",
      " 40  A 6.6                                             0 non-null      object \n",
      " 41  A 6a.1                                            0 non-null      float64\n",
      " 42  A 6a.2                                            0 non-null      float64\n",
      " 43  A 6a.3                                            0 non-null      float64\n",
      " 44  A 6a.4                                            0 non-null      float64\n",
      " 45  A 7                                               0 non-null      object \n",
      " 46  A 7a.1                                            0 non-null      object \n",
      " 47  A 7a.2                                            0 non-null      object \n",
      " 48  A 7a.3                                            0 non-null      object \n",
      " 49  A 7a.4                                            0 non-null      object \n",
      " 50  A 7a.5                                            0 non-null      object \n",
      " 51  A 7b                                              0 non-null      object \n",
      " 52  A 7c                                              0 non-null      float64\n",
      " 53  A 8                                               0 non-null      float64\n",
      " 54  A 9.1                                             0 non-null      object \n",
      " 55  A 9.2                                             0 non-null      object \n",
      " 56  A 9.3                                             0 non-null      object \n",
      " 57  A 9.4                                             0 non-null      object \n",
      " 58  R 10                                              1883 non-null   float64\n",
      " 59  R 11.1                                            1883 non-null   object \n",
      " 60  R 11.2                                            1883 non-null   object \n",
      " 61  R 11.3                                            1883 non-null   object \n",
      " 62  R 12.1                                            1548 non-null   object \n",
      " 63  R 12.2                                            1548 non-null   object \n",
      " 64  R 12.3                                            1548 non-null   object \n",
      " 65  R 12.4                                            1548 non-null   object \n",
      " 66  R 12.5                                            2014 non-null   object \n",
      " 67  R 12.6                                            1720 non-null   object \n",
      " 68  R 12a.1                                           655 non-null    float64\n",
      " 69  R 12a.2                                           130 non-null    float64\n",
      " 70  R 12a.3                                           452 non-null    float64\n",
      " 71  R 12a.4                                           979 non-null    float64\n",
      " 72  R 13                                              2186 non-null   object \n",
      " 73  R 13a.1                                           1255 non-null   object \n",
      " 74  R 13a.2                                           1255 non-null   object \n",
      " 75  R 13a.3                                           1255 non-null   object \n",
      " 76  R 13a.4                                           1255 non-null   object \n",
      " 77  R 13a.5                                           1255 non-null   object \n",
      " 78  R 13b                                             1255 non-null   object \n",
      " 79  R 13c                                             1255 non-null   float64\n",
      " 80  R 14                                              2186 non-null   float64\n",
      " 81  R 14a                                             2186 non-null   object \n",
      " 82  T 1                                               2186 non-null   float64\n",
      "dtypes: float64(17), int64(3), object(63)\n",
      "memory usage: 1.4+ MB\n"
     ]
    },
    {
     "data": {
      "text/html": [
       "<div>\n",
       "<style scoped>\n",
       "    .dataframe tbody tr th:only-of-type {\n",
       "        vertical-align: middle;\n",
       "    }\n",
       "\n",
       "    .dataframe tbody tr th {\n",
       "        vertical-align: top;\n",
       "    }\n",
       "\n",
       "    .dataframe thead th {\n",
       "        text-align: right;\n",
       "    }\n",
       "</style>\n",
       "<table border=\"1\" class=\"dataframe\">\n",
       "  <thead>\n",
       "    <tr style=\"text-align: right;\">\n",
       "      <th></th>\n",
       "      <th>ID risposta</th>\n",
       "      <th>Data invio</th>\n",
       "      <th>Anno</th>\n",
       "      <th>Mese</th>\n",
       "      <th>Piattaforma usata per l'adesione al bando</th>\n",
       "      <th>Codice piattaforma usata per l'adesione al bando</th>\n",
       "      <th>Codice bando</th>\n",
       "      <th>Titolo bando</th>\n",
       "      <th>Fase</th>\n",
       "      <th>Link_report</th>\n",
       "      <th>A 1</th>\n",
       "      <th>A 2.1</th>\n",
       "      <th>A 2.2</th>\n",
       "      <th>A 2.3</th>\n",
       "      <th>A 2.4</th>\n",
       "      <th>A 2.5</th>\n",
       "      <th>A 2.6</th>\n",
       "      <th>A 2.7</th>\n",
       "      <th>A 2.8</th>\n",
       "      <th>A 3</th>\n",
       "      <th>A 3a.1</th>\n",
       "      <th>A 3a.2</th>\n",
       "      <th>A 3a.3</th>\n",
       "      <th>A 3a.4</th>\n",
       "      <th>A 3a.5</th>\n",
       "      <th>A 3a.6</th>\n",
       "      <th>A 4</th>\n",
       "      <th>A 5.1</th>\n",
       "      <th>A 5.2</th>\n",
       "      <th>A 5.3</th>\n",
       "      <th>A 5.4</th>\n",
       "      <th>A 5.5</th>\n",
       "      <th>A 5.6</th>\n",
       "      <th>A 5.7</th>\n",
       "      <th>A 5.8</th>\n",
       "      <th>A 6.1</th>\n",
       "      <th>A 6.2</th>\n",
       "      <th>A 6.3</th>\n",
       "      <th>A 6.4</th>\n",
       "      <th>A 6.5</th>\n",
       "      <th>...</th>\n",
       "      <th>A 6a.3</th>\n",
       "      <th>A 6a.4</th>\n",
       "      <th>A 7</th>\n",
       "      <th>A 7a.1</th>\n",
       "      <th>A 7a.2</th>\n",
       "      <th>A 7a.3</th>\n",
       "      <th>A 7a.4</th>\n",
       "      <th>A 7a.5</th>\n",
       "      <th>A 7b</th>\n",
       "      <th>A 7c</th>\n",
       "      <th>A 8</th>\n",
       "      <th>A 9.1</th>\n",
       "      <th>A 9.2</th>\n",
       "      <th>A 9.3</th>\n",
       "      <th>A 9.4</th>\n",
       "      <th>R 10</th>\n",
       "      <th>R 11.1</th>\n",
       "      <th>R 11.2</th>\n",
       "      <th>R 11.3</th>\n",
       "      <th>R 12.1</th>\n",
       "      <th>R 12.2</th>\n",
       "      <th>R 12.3</th>\n",
       "      <th>R 12.4</th>\n",
       "      <th>R 12.5</th>\n",
       "      <th>R 12.6</th>\n",
       "      <th>R 12a.1</th>\n",
       "      <th>R 12a.2</th>\n",
       "      <th>R 12a.3</th>\n",
       "      <th>R 12a.4</th>\n",
       "      <th>R 13</th>\n",
       "      <th>R 13a.1</th>\n",
       "      <th>R 13a.2</th>\n",
       "      <th>R 13a.3</th>\n",
       "      <th>R 13a.4</th>\n",
       "      <th>R 13a.5</th>\n",
       "      <th>R 13b</th>\n",
       "      <th>R 13c</th>\n",
       "      <th>R 14</th>\n",
       "      <th>R 14a</th>\n",
       "      <th>T 1</th>\n",
       "    </tr>\n",
       "  </thead>\n",
       "  <tbody>\n",
       "    <tr>\n",
       "      <th>17</th>\n",
       "      <td>148246</td>\n",
       "      <td>04/12/2019</td>\n",
       "      <td>2019</td>\n",
       "      <td>12</td>\n",
       "      <td>Bandi online</td>\n",
       "      <td>A1</td>\n",
       "      <td>RLO12019006542</td>\n",
       "      <td>FABER I Ed</td>\n",
       "      <td>Rendicontazione</td>\n",
       "      <td>http://supportsiss.lispa.it/opendata/cs/201912...</td>\n",
       "      <td>NaN</td>\n",
       "      <td>NaN</td>\n",
       "      <td>NaN</td>\n",
       "      <td>NaN</td>\n",
       "      <td>NaN</td>\n",
       "      <td>NaN</td>\n",
       "      <td>NaN</td>\n",
       "      <td>NaN</td>\n",
       "      <td>NaN</td>\n",
       "      <td>NaN</td>\n",
       "      <td>NaN</td>\n",
       "      <td>NaN</td>\n",
       "      <td>NaN</td>\n",
       "      <td>NaN</td>\n",
       "      <td>NaN</td>\n",
       "      <td>NaN</td>\n",
       "      <td>NaN</td>\n",
       "      <td>NaN</td>\n",
       "      <td>NaN</td>\n",
       "      <td>NaN</td>\n",
       "      <td>NaN</td>\n",
       "      <td>NaN</td>\n",
       "      <td>NaN</td>\n",
       "      <td>NaN</td>\n",
       "      <td>NaN</td>\n",
       "      <td>NaN</td>\n",
       "      <td>NaN</td>\n",
       "      <td>NaN</td>\n",
       "      <td>NaN</td>\n",
       "      <td>NaN</td>\n",
       "      <td>...</td>\n",
       "      <td>NaN</td>\n",
       "      <td>NaN</td>\n",
       "      <td>NaN</td>\n",
       "      <td>NaN</td>\n",
       "      <td>NaN</td>\n",
       "      <td>NaN</td>\n",
       "      <td>NaN</td>\n",
       "      <td>NaN</td>\n",
       "      <td>NaN</td>\n",
       "      <td>NaN</td>\n",
       "      <td>NaN</td>\n",
       "      <td>NaN</td>\n",
       "      <td>NaN</td>\n",
       "      <td>NaN</td>\n",
       "      <td>NaN</td>\n",
       "      <td>4.0</td>\n",
       "      <td>NO</td>\n",
       "      <td>SI</td>\n",
       "      <td>NO</td>\n",
       "      <td>SI</td>\n",
       "      <td>NO</td>\n",
       "      <td>NO</td>\n",
       "      <td>NO</td>\n",
       "      <td>NO</td>\n",
       "      <td>NO</td>\n",
       "      <td>4.0</td>\n",
       "      <td>NaN</td>\n",
       "      <td>NaN</td>\n",
       "      <td>NaN</td>\n",
       "      <td>NO</td>\n",
       "      <td>NaN</td>\n",
       "      <td>NaN</td>\n",
       "      <td>NaN</td>\n",
       "      <td>NaN</td>\n",
       "      <td>NaN</td>\n",
       "      <td>NaN</td>\n",
       "      <td>NaN</td>\n",
       "      <td>3.0</td>\n",
       "      <td>CI SONO TROPPE INFORMAZIONI DA RIPETERE NEI MO...</td>\n",
       "      <td>197.24</td>\n",
       "    </tr>\n",
       "    <tr>\n",
       "      <th>89</th>\n",
       "      <td>255807</td>\n",
       "      <td>20/01/2021</td>\n",
       "      <td>2021</td>\n",
       "      <td>1</td>\n",
       "      <td>Bandi online</td>\n",
       "      <td>A1</td>\n",
       "      <td>RLN12020011162</td>\n",
       "      <td>E di nuovo sport</td>\n",
       "      <td>Rendicontazione</td>\n",
       "      <td>http://supportsiss.lispa.it/opendata/cs/202103...</td>\n",
       "      <td>NaN</td>\n",
       "      <td>NaN</td>\n",
       "      <td>NaN</td>\n",
       "      <td>NaN</td>\n",
       "      <td>NaN</td>\n",
       "      <td>NaN</td>\n",
       "      <td>NaN</td>\n",
       "      <td>NaN</td>\n",
       "      <td>NaN</td>\n",
       "      <td>NaN</td>\n",
       "      <td>NaN</td>\n",
       "      <td>NaN</td>\n",
       "      <td>NaN</td>\n",
       "      <td>NaN</td>\n",
       "      <td>NaN</td>\n",
       "      <td>NaN</td>\n",
       "      <td>NaN</td>\n",
       "      <td>NaN</td>\n",
       "      <td>NaN</td>\n",
       "      <td>NaN</td>\n",
       "      <td>NaN</td>\n",
       "      <td>NaN</td>\n",
       "      <td>NaN</td>\n",
       "      <td>NaN</td>\n",
       "      <td>NaN</td>\n",
       "      <td>NaN</td>\n",
       "      <td>NaN</td>\n",
       "      <td>NaN</td>\n",
       "      <td>NaN</td>\n",
       "      <td>NaN</td>\n",
       "      <td>...</td>\n",
       "      <td>NaN</td>\n",
       "      <td>NaN</td>\n",
       "      <td>NaN</td>\n",
       "      <td>NaN</td>\n",
       "      <td>NaN</td>\n",
       "      <td>NaN</td>\n",
       "      <td>NaN</td>\n",
       "      <td>NaN</td>\n",
       "      <td>NaN</td>\n",
       "      <td>NaN</td>\n",
       "      <td>NaN</td>\n",
       "      <td>NaN</td>\n",
       "      <td>NaN</td>\n",
       "      <td>NaN</td>\n",
       "      <td>NaN</td>\n",
       "      <td>5.0</td>\n",
       "      <td>NO</td>\n",
       "      <td>SI</td>\n",
       "      <td>NO</td>\n",
       "      <td>NaN</td>\n",
       "      <td>NaN</td>\n",
       "      <td>NaN</td>\n",
       "      <td>NaN</td>\n",
       "      <td>SI</td>\n",
       "      <td>NaN</td>\n",
       "      <td>NaN</td>\n",
       "      <td>NaN</td>\n",
       "      <td>NaN</td>\n",
       "      <td>NaN</td>\n",
       "      <td>SI</td>\n",
       "      <td>NO</td>\n",
       "      <td>SI</td>\n",
       "      <td>NO</td>\n",
       "      <td>NO</td>\n",
       "      <td>NO</td>\n",
       "      <td>SI</td>\n",
       "      <td>5.0</td>\n",
       "      <td>5.0</td>\n",
       "      <td>DI FACILE E COMPRENSIBILE UTILIZZO</td>\n",
       "      <td>195.09</td>\n",
       "    </tr>\n",
       "    <tr>\n",
       "      <th>99</th>\n",
       "      <td>238123</td>\n",
       "      <td>16/11/2020</td>\n",
       "      <td>2020</td>\n",
       "      <td>11</td>\n",
       "      <td>Bandi online</td>\n",
       "      <td>A1</td>\n",
       "      <td>RLT12019007722</td>\n",
       "      <td>Smaltimento amianto Anno 2019</td>\n",
       "      <td>Rendicontazione</td>\n",
       "      <td>http://supportsiss.lispa.it/opendata/cs/202012...</td>\n",
       "      <td>NaN</td>\n",
       "      <td>NaN</td>\n",
       "      <td>NaN</td>\n",
       "      <td>NaN</td>\n",
       "      <td>NaN</td>\n",
       "      <td>NaN</td>\n",
       "      <td>NaN</td>\n",
       "      <td>NaN</td>\n",
       "      <td>NaN</td>\n",
       "      <td>NaN</td>\n",
       "      <td>NaN</td>\n",
       "      <td>NaN</td>\n",
       "      <td>NaN</td>\n",
       "      <td>NaN</td>\n",
       "      <td>NaN</td>\n",
       "      <td>NaN</td>\n",
       "      <td>NaN</td>\n",
       "      <td>NaN</td>\n",
       "      <td>NaN</td>\n",
       "      <td>NaN</td>\n",
       "      <td>NaN</td>\n",
       "      <td>NaN</td>\n",
       "      <td>NaN</td>\n",
       "      <td>NaN</td>\n",
       "      <td>NaN</td>\n",
       "      <td>NaN</td>\n",
       "      <td>NaN</td>\n",
       "      <td>NaN</td>\n",
       "      <td>NaN</td>\n",
       "      <td>NaN</td>\n",
       "      <td>...</td>\n",
       "      <td>NaN</td>\n",
       "      <td>NaN</td>\n",
       "      <td>NaN</td>\n",
       "      <td>NaN</td>\n",
       "      <td>NaN</td>\n",
       "      <td>NaN</td>\n",
       "      <td>NaN</td>\n",
       "      <td>NaN</td>\n",
       "      <td>NaN</td>\n",
       "      <td>NaN</td>\n",
       "      <td>NaN</td>\n",
       "      <td>NaN</td>\n",
       "      <td>NaN</td>\n",
       "      <td>NaN</td>\n",
       "      <td>NaN</td>\n",
       "      <td>4.0</td>\n",
       "      <td>NO</td>\n",
       "      <td>SI</td>\n",
       "      <td>NO</td>\n",
       "      <td>NaN</td>\n",
       "      <td>NaN</td>\n",
       "      <td>NaN</td>\n",
       "      <td>NaN</td>\n",
       "      <td>NaN</td>\n",
       "      <td>SI</td>\n",
       "      <td>NaN</td>\n",
       "      <td>NaN</td>\n",
       "      <td>NaN</td>\n",
       "      <td>NaN</td>\n",
       "      <td>SI</td>\n",
       "      <td>SI</td>\n",
       "      <td>SI</td>\n",
       "      <td>NO</td>\n",
       "      <td>NO</td>\n",
       "      <td>NO</td>\n",
       "      <td>NO</td>\n",
       "      <td>2.0</td>\n",
       "      <td>3.0</td>\n",
       "      <td>NON HO RICEVUTO RISPOSTA ALLA RICHIESTA DI ASS...</td>\n",
       "      <td>71.88</td>\n",
       "    </tr>\n",
       "    <tr>\n",
       "      <th>195</th>\n",
       "      <td>8100</td>\n",
       "      <td>28/04/2017</td>\n",
       "      <td>2017</td>\n",
       "      <td>4</td>\n",
       "      <td>SiAge</td>\n",
       "      <td>A1</td>\n",
       "      <td>RLL12016000790</td>\n",
       "      <td>Musei 2016</td>\n",
       "      <td>Rendicontazione</td>\n",
       "      <td>http://supportsiss.lispa.it/opendata/cs/201706...</td>\n",
       "      <td>NaN</td>\n",
       "      <td>NaN</td>\n",
       "      <td>NaN</td>\n",
       "      <td>NaN</td>\n",
       "      <td>NaN</td>\n",
       "      <td>NaN</td>\n",
       "      <td>NaN</td>\n",
       "      <td>NaN</td>\n",
       "      <td>NaN</td>\n",
       "      <td>NaN</td>\n",
       "      <td>NaN</td>\n",
       "      <td>NaN</td>\n",
       "      <td>NaN</td>\n",
       "      <td>NaN</td>\n",
       "      <td>NaN</td>\n",
       "      <td>NaN</td>\n",
       "      <td>NaN</td>\n",
       "      <td>NaN</td>\n",
       "      <td>NaN</td>\n",
       "      <td>NaN</td>\n",
       "      <td>NaN</td>\n",
       "      <td>NaN</td>\n",
       "      <td>NaN</td>\n",
       "      <td>NaN</td>\n",
       "      <td>NaN</td>\n",
       "      <td>NaN</td>\n",
       "      <td>NaN</td>\n",
       "      <td>NaN</td>\n",
       "      <td>NaN</td>\n",
       "      <td>NaN</td>\n",
       "      <td>...</td>\n",
       "      <td>NaN</td>\n",
       "      <td>NaN</td>\n",
       "      <td>NaN</td>\n",
       "      <td>NaN</td>\n",
       "      <td>NaN</td>\n",
       "      <td>NaN</td>\n",
       "      <td>NaN</td>\n",
       "      <td>NaN</td>\n",
       "      <td>NaN</td>\n",
       "      <td>NaN</td>\n",
       "      <td>NaN</td>\n",
       "      <td>NaN</td>\n",
       "      <td>NaN</td>\n",
       "      <td>NaN</td>\n",
       "      <td>NaN</td>\n",
       "      <td>3.0</td>\n",
       "      <td>NO</td>\n",
       "      <td>SI</td>\n",
       "      <td>NO</td>\n",
       "      <td>NO</td>\n",
       "      <td>NO</td>\n",
       "      <td>NO</td>\n",
       "      <td>SI</td>\n",
       "      <td>NO</td>\n",
       "      <td>NO</td>\n",
       "      <td>NaN</td>\n",
       "      <td>NaN</td>\n",
       "      <td>NaN</td>\n",
       "      <td>3.0</td>\n",
       "      <td>SI</td>\n",
       "      <td>SI</td>\n",
       "      <td>SI</td>\n",
       "      <td>NO</td>\n",
       "      <td>NO</td>\n",
       "      <td>NO</td>\n",
       "      <td>SI</td>\n",
       "      <td>3.0</td>\n",
       "      <td>3.0</td>\n",
       "      <td>NON TUTTI GLI AUTOMATISMI DEL SISTEMA FUNZIONA...</td>\n",
       "      <td>346.25</td>\n",
       "    </tr>\n",
       "    <tr>\n",
       "      <th>233</th>\n",
       "      <td>198665</td>\n",
       "      <td>03/06/2020</td>\n",
       "      <td>2020</td>\n",
       "      <td>6</td>\n",
       "      <td>Bandi online</td>\n",
       "      <td>A1</td>\n",
       "      <td>RLT12019008702</td>\n",
       "      <td>Rinnova Autoveicoli</td>\n",
       "      <td>Rendicontazione</td>\n",
       "      <td>http://supportsiss.lispa.it/opendata/cs/202006...</td>\n",
       "      <td>NaN</td>\n",
       "      <td>NaN</td>\n",
       "      <td>NaN</td>\n",
       "      <td>NaN</td>\n",
       "      <td>NaN</td>\n",
       "      <td>NaN</td>\n",
       "      <td>NaN</td>\n",
       "      <td>NaN</td>\n",
       "      <td>NaN</td>\n",
       "      <td>NaN</td>\n",
       "      <td>NaN</td>\n",
       "      <td>NaN</td>\n",
       "      <td>NaN</td>\n",
       "      <td>NaN</td>\n",
       "      <td>NaN</td>\n",
       "      <td>NaN</td>\n",
       "      <td>NaN</td>\n",
       "      <td>NaN</td>\n",
       "      <td>NaN</td>\n",
       "      <td>NaN</td>\n",
       "      <td>NaN</td>\n",
       "      <td>NaN</td>\n",
       "      <td>NaN</td>\n",
       "      <td>NaN</td>\n",
       "      <td>NaN</td>\n",
       "      <td>NaN</td>\n",
       "      <td>NaN</td>\n",
       "      <td>NaN</td>\n",
       "      <td>NaN</td>\n",
       "      <td>NaN</td>\n",
       "      <td>...</td>\n",
       "      <td>NaN</td>\n",
       "      <td>NaN</td>\n",
       "      <td>NaN</td>\n",
       "      <td>NaN</td>\n",
       "      <td>NaN</td>\n",
       "      <td>NaN</td>\n",
       "      <td>NaN</td>\n",
       "      <td>NaN</td>\n",
       "      <td>NaN</td>\n",
       "      <td>NaN</td>\n",
       "      <td>NaN</td>\n",
       "      <td>NaN</td>\n",
       "      <td>NaN</td>\n",
       "      <td>NaN</td>\n",
       "      <td>NaN</td>\n",
       "      <td>3.0</td>\n",
       "      <td>NO</td>\n",
       "      <td>SI</td>\n",
       "      <td>NO</td>\n",
       "      <td>NO</td>\n",
       "      <td>NO</td>\n",
       "      <td>NO</td>\n",
       "      <td>SI</td>\n",
       "      <td>NO</td>\n",
       "      <td>NO</td>\n",
       "      <td>NaN</td>\n",
       "      <td>NaN</td>\n",
       "      <td>NaN</td>\n",
       "      <td>3.0</td>\n",
       "      <td>NO</td>\n",
       "      <td>NaN</td>\n",
       "      <td>NaN</td>\n",
       "      <td>NaN</td>\n",
       "      <td>NaN</td>\n",
       "      <td>NaN</td>\n",
       "      <td>NaN</td>\n",
       "      <td>NaN</td>\n",
       "      <td>3.0</td>\n",
       "      <td>NON CHIARI I PERCORSI PER OPERARE, IN PARTICOL...</td>\n",
       "      <td>332.05</td>\n",
       "    </tr>\n",
       "  </tbody>\n",
       "</table>\n",
       "<p>5 rows × 83 columns</p>\n",
       "</div>"
      ],
      "text/plain": [
       "     ID risposta  ...     T 1\n",
       "17        148246  ...  197.24\n",
       "89        255807  ...  195.09\n",
       "99        238123  ...   71.88\n",
       "195         8100  ...  346.25\n",
       "233       198665  ...  332.05\n",
       "\n",
       "[5 rows x 83 columns]"
      ]
     },
     "execution_count": 5,
     "metadata": {
      "tags": []
     },
     "output_type": "execute_result"
    }
   ],
   "source": [
    "data_f = data[-data['R 14a'].isna()]\n",
    "data_f.info()\n",
    "data_f.head()"
   ]
  },
  {
   "cell_type": "markdown",
   "metadata": {
    "id": "48Cljxx34wgb"
   },
   "source": [
    "r14 -> punteggio \\\\\n",
    "r 14a -> commento"
   ]
  },
  {
   "cell_type": "code",
   "execution_count": 6,
   "metadata": {
    "executionInfo": {
     "elapsed": 36,
     "status": "ok",
     "timestamp": 1622722455433,
     "user": {
      "displayName": "Alessandro Portaluppi",
      "photoUrl": "https://lh3.googleusercontent.com/a-/AOh14GhE_rMXzi9qhArC8wQQyX9DixCEEs0oiXsP9wUF=s64",
      "userId": "17342511418312078933"
     },
     "user_tz": -120
    },
    "id": "BDngbdPLemh6"
   },
   "outputs": [],
   "source": [
    "columns = ['Titolo bando', 'Piattaforma usata per l\\'adesione al bando', 'R 14', 'R 14a']\n",
    "data_f = data_f[columns]"
   ]
  },
  {
   "cell_type": "code",
   "execution_count": 7,
   "metadata": {
    "colab": {
     "base_uri": "https://localhost:8080/",
     "height": 0
    },
    "executionInfo": {
     "elapsed": 35,
     "status": "ok",
     "timestamp": 1622722455434,
     "user": {
      "displayName": "Alessandro Portaluppi",
      "photoUrl": "https://lh3.googleusercontent.com/a-/AOh14GhE_rMXzi9qhArC8wQQyX9DixCEEs0oiXsP9wUF=s64",
      "userId": "17342511418312078933"
     },
     "user_tz": -120
    },
    "id": "hwpgabNnfU2z",
    "outputId": "a7979b43-0d9f-4183-d4dc-4b151daf4941"
   },
   "outputs": [
    {
     "name": "stdout",
     "output_type": "stream",
     "text": [
      "<class 'pandas.core.frame.DataFrame'>\n",
      "Int64Index: 2186 entries, 17 to 131715\n",
      "Data columns (total 4 columns):\n",
      " #   Column       Non-Null Count  Dtype  \n",
      "---  ------       --------------  -----  \n",
      " 0   bando        2186 non-null   object \n",
      " 1   piattaforma  2185 non-null   object \n",
      " 2   punteggio    2186 non-null   float64\n",
      " 3   commento     2186 non-null   object \n",
      "dtypes: float64(1), object(3)\n",
      "memory usage: 85.4+ KB\n"
     ]
    },
    {
     "data": {
      "text/html": [
       "<div>\n",
       "<style scoped>\n",
       "    .dataframe tbody tr th:only-of-type {\n",
       "        vertical-align: middle;\n",
       "    }\n",
       "\n",
       "    .dataframe tbody tr th {\n",
       "        vertical-align: top;\n",
       "    }\n",
       "\n",
       "    .dataframe thead th {\n",
       "        text-align: right;\n",
       "    }\n",
       "</style>\n",
       "<table border=\"1\" class=\"dataframe\">\n",
       "  <thead>\n",
       "    <tr style=\"text-align: right;\">\n",
       "      <th></th>\n",
       "      <th>bando</th>\n",
       "      <th>piattaforma</th>\n",
       "      <th>punteggio</th>\n",
       "      <th>commento</th>\n",
       "    </tr>\n",
       "  </thead>\n",
       "  <tbody>\n",
       "    <tr>\n",
       "      <th>17</th>\n",
       "      <td>FABER I Ed</td>\n",
       "      <td>Bandi online</td>\n",
       "      <td>3.0</td>\n",
       "      <td>CI SONO TROPPE INFORMAZIONI DA RIPETERE NEI MO...</td>\n",
       "    </tr>\n",
       "    <tr>\n",
       "      <th>89</th>\n",
       "      <td>E di nuovo sport</td>\n",
       "      <td>Bandi online</td>\n",
       "      <td>5.0</td>\n",
       "      <td>DI FACILE E COMPRENSIBILE UTILIZZO</td>\n",
       "    </tr>\n",
       "    <tr>\n",
       "      <th>99</th>\n",
       "      <td>Smaltimento amianto Anno 2019</td>\n",
       "      <td>Bandi online</td>\n",
       "      <td>3.0</td>\n",
       "      <td>NON HO RICEVUTO RISPOSTA ALLA RICHIESTA DI ASS...</td>\n",
       "    </tr>\n",
       "    <tr>\n",
       "      <th>195</th>\n",
       "      <td>Musei 2016</td>\n",
       "      <td>SiAge</td>\n",
       "      <td>3.0</td>\n",
       "      <td>NON TUTTI GLI AUTOMATISMI DEL SISTEMA FUNZIONA...</td>\n",
       "    </tr>\n",
       "    <tr>\n",
       "      <th>233</th>\n",
       "      <td>Rinnova Autoveicoli</td>\n",
       "      <td>Bandi online</td>\n",
       "      <td>3.0</td>\n",
       "      <td>NON CHIARI I PERCORSI PER OPERARE, IN PARTICOL...</td>\n",
       "    </tr>\n",
       "  </tbody>\n",
       "</table>\n",
       "</div>"
      ],
      "text/plain": [
       "                             bando  ...                                           commento\n",
       "17                      FABER I Ed  ...  CI SONO TROPPE INFORMAZIONI DA RIPETERE NEI MO...\n",
       "89                E di nuovo sport  ...                 DI FACILE E COMPRENSIBILE UTILIZZO\n",
       "99   Smaltimento amianto Anno 2019  ...  NON HO RICEVUTO RISPOSTA ALLA RICHIESTA DI ASS...\n",
       "195                     Musei 2016  ...  NON TUTTI GLI AUTOMATISMI DEL SISTEMA FUNZIONA...\n",
       "233            Rinnova Autoveicoli  ...  NON CHIARI I PERCORSI PER OPERARE, IN PARTICOL...\n",
       "\n",
       "[5 rows x 4 columns]"
      ]
     },
     "execution_count": 7,
     "metadata": {
      "tags": []
     },
     "output_type": "execute_result"
    }
   ],
   "source": [
    "data_f.columns = ['bando', 'piattaforma', 'punteggio', 'commento']\n",
    "data_f.info()\n",
    "data_f.head()"
   ]
  },
  {
   "cell_type": "code",
   "execution_count": 8,
   "metadata": {
    "colab": {
     "base_uri": "https://localhost:8080/"
    },
    "executionInfo": {
     "elapsed": 32,
     "status": "ok",
     "timestamp": 1622722455435,
     "user": {
      "displayName": "Alessandro Portaluppi",
      "photoUrl": "https://lh3.googleusercontent.com/a-/AOh14GhE_rMXzi9qhArC8wQQyX9DixCEEs0oiXsP9wUF=s64",
      "userId": "17342511418312078933"
     },
     "user_tz": -120
    },
    "id": "wKIt01s_gayP",
    "outputId": "184ebbf8-a53f-4f1e-a3a9-3784af7e8a5f"
   },
   "outputs": [
    {
     "data": {
      "text/plain": [
       "90"
      ]
     },
     "execution_count": 8,
     "metadata": {
      "tags": []
     },
     "output_type": "execute_result"
    }
   ],
   "source": [
    "len(data_f['bando'].unique())"
   ]
  },
  {
   "cell_type": "code",
   "execution_count": 9,
   "metadata": {
    "colab": {
     "base_uri": "https://localhost:8080/"
    },
    "executionInfo": {
     "elapsed": 31,
     "status": "ok",
     "timestamp": 1622722455436,
     "user": {
      "displayName": "Alessandro Portaluppi",
      "photoUrl": "https://lh3.googleusercontent.com/a-/AOh14GhE_rMXzi9qhArC8wQQyX9DixCEEs0oiXsP9wUF=s64",
      "userId": "17342511418312078933"
     },
     "user_tz": -120
    },
    "id": "zSaY_cLMiN7G",
    "outputId": "4ad3d23a-e796-4b09-f5a6-b77e14ac7b85"
   },
   "outputs": [
    {
     "data": {
      "text/plain": [
       "6"
      ]
     },
     "execution_count": 9,
     "metadata": {
      "tags": []
     },
     "output_type": "execute_result"
    }
   ],
   "source": [
    "len(data_f['piattaforma'].unique())"
   ]
  },
  {
   "cell_type": "markdown",
   "metadata": {
    "id": "ZGREoCY2wGdH"
   },
   "source": [
    "## Text cleaning"
   ]
  },
  {
   "cell_type": "code",
   "execution_count": 10,
   "metadata": {
    "colab": {
     "base_uri": "https://localhost:8080/",
     "height": 195
    },
    "executionInfo": {
     "elapsed": 29,
     "status": "ok",
     "timestamp": 1622722455437,
     "user": {
      "displayName": "Alessandro Portaluppi",
      "photoUrl": "https://lh3.googleusercontent.com/a-/AOh14GhE_rMXzi9qhArC8wQQyX9DixCEEs0oiXsP9wUF=s64",
      "userId": "17342511418312078933"
     },
     "user_tz": -120
    },
    "id": "iCWKE5dqwIvV",
    "outputId": "2dcb7264-517b-46d8-d79e-bf4b11f3b400"
   },
   "outputs": [
    {
     "data": {
      "text/html": [
       "<div>\n",
       "<style scoped>\n",
       "    .dataframe tbody tr th:only-of-type {\n",
       "        vertical-align: middle;\n",
       "    }\n",
       "\n",
       "    .dataframe tbody tr th {\n",
       "        vertical-align: top;\n",
       "    }\n",
       "\n",
       "    .dataframe thead th {\n",
       "        text-align: right;\n",
       "    }\n",
       "</style>\n",
       "<table border=\"1\" class=\"dataframe\">\n",
       "  <thead>\n",
       "    <tr style=\"text-align: right;\">\n",
       "      <th></th>\n",
       "      <th>bando</th>\n",
       "      <th>piattaforma</th>\n",
       "      <th>punteggio</th>\n",
       "      <th>commento</th>\n",
       "    </tr>\n",
       "  </thead>\n",
       "  <tbody>\n",
       "    <tr>\n",
       "      <th>17</th>\n",
       "      <td>faber i ed</td>\n",
       "      <td>bandi online</td>\n",
       "      <td>3.0</td>\n",
       "      <td>ci sono troppe informazioni da ripetere nei mo...</td>\n",
       "    </tr>\n",
       "    <tr>\n",
       "      <th>89</th>\n",
       "      <td>e di nuovo sport</td>\n",
       "      <td>bandi online</td>\n",
       "      <td>5.0</td>\n",
       "      <td>di facile e comprensibile utilizzo</td>\n",
       "    </tr>\n",
       "    <tr>\n",
       "      <th>99</th>\n",
       "      <td>smaltimento amianto anno 2019</td>\n",
       "      <td>bandi online</td>\n",
       "      <td>3.0</td>\n",
       "      <td>non ho ricevuto risposta alla richiesta di ass...</td>\n",
       "    </tr>\n",
       "    <tr>\n",
       "      <th>195</th>\n",
       "      <td>musei 2016</td>\n",
       "      <td>siage</td>\n",
       "      <td>3.0</td>\n",
       "      <td>non tutti gli automatismi del sistema funziona...</td>\n",
       "    </tr>\n",
       "    <tr>\n",
       "      <th>233</th>\n",
       "      <td>rinnova autoveicoli</td>\n",
       "      <td>bandi online</td>\n",
       "      <td>3.0</td>\n",
       "      <td>non chiari i percorsi per operare, in particol...</td>\n",
       "    </tr>\n",
       "  </tbody>\n",
       "</table>\n",
       "</div>"
      ],
      "text/plain": [
       "                             bando  ...                                           commento\n",
       "17                      faber i ed  ...  ci sono troppe informazioni da ripetere nei mo...\n",
       "89                e di nuovo sport  ...                 di facile e comprensibile utilizzo\n",
       "99   smaltimento amianto anno 2019  ...  non ho ricevuto risposta alla richiesta di ass...\n",
       "195                     musei 2016  ...  non tutti gli automatismi del sistema funziona...\n",
       "233            rinnova autoveicoli  ...  non chiari i percorsi per operare, in particol...\n",
       "\n",
       "[5 rows x 4 columns]"
      ]
     },
     "execution_count": 10,
     "metadata": {
      "tags": []
     },
     "output_type": "execute_result"
    }
   ],
   "source": [
    "for col in ['bando', 'piattaforma', 'commento']:\n",
    "  data_f[col] = data_f[col].str.lower()\n",
    "data_f.head()"
   ]
  },
  {
   "cell_type": "code",
   "execution_count": 11,
   "metadata": {
    "executionInfo": {
     "elapsed": 28,
     "status": "ok",
     "timestamp": 1622722455438,
     "user": {
      "displayName": "Alessandro Portaluppi",
      "photoUrl": "https://lh3.googleusercontent.com/a-/AOh14GhE_rMXzi9qhArC8wQQyX9DixCEEs0oiXsP9wUF=s64",
      "userId": "17342511418312078933"
     },
     "user_tz": -120
    },
    "id": "7VExcLtOy0v1"
   },
   "outputs": [],
   "source": [
    "#remove punctuation\n",
    "def remove_punctuation(s):\n",
    "    s = re.sub(r'[^\\w\\s]', ' ', str(s).lower().strip())\n",
    "    return s\n",
    "data_f['commento'] = data_f['commento'].apply(remove_punctuation)"
   ]
  },
  {
   "cell_type": "code",
   "execution_count": 12,
   "metadata": {
    "colab": {
     "base_uri": "https://localhost:8080/",
     "height": 279
    },
    "executionInfo": {
     "elapsed": 499,
     "status": "ok",
     "timestamp": 1622722455909,
     "user": {
      "displayName": "Alessandro Portaluppi",
      "photoUrl": "https://lh3.googleusercontent.com/a-/AOh14GhE_rMXzi9qhArC8wQQyX9DixCEEs0oiXsP9wUF=s64",
      "userId": "17342511418312078933"
     },
     "user_tz": -120
    },
    "id": "Zg1adxcVyDQP",
    "outputId": "a0938e59-8e12-4d8f-8042-117f2d3da505"
   },
   "outputs": [
    {
     "data": {
      "text/html": [
       "<div>\n",
       "<style scoped>\n",
       "    .dataframe tbody tr th:only-of-type {\n",
       "        vertical-align: middle;\n",
       "    }\n",
       "\n",
       "    .dataframe tbody tr th {\n",
       "        vertical-align: top;\n",
       "    }\n",
       "\n",
       "    .dataframe thead th {\n",
       "        text-align: right;\n",
       "    }\n",
       "</style>\n",
       "<table border=\"1\" class=\"dataframe\">\n",
       "  <thead>\n",
       "    <tr style=\"text-align: right;\">\n",
       "      <th></th>\n",
       "      <th>bando</th>\n",
       "      <th>piattaforma</th>\n",
       "      <th>punteggio</th>\n",
       "      <th>commento</th>\n",
       "      <th>commento_p</th>\n",
       "    </tr>\n",
       "  </thead>\n",
       "  <tbody>\n",
       "    <tr>\n",
       "      <th>17</th>\n",
       "      <td>faber i ed</td>\n",
       "      <td>bandi online</td>\n",
       "      <td>3.0</td>\n",
       "      <td>ci sono troppe informazioni da ripetere nei mo...</td>\n",
       "      <td>[ci, sono, troppe, informazioni, da, ripetere,...</td>\n",
       "    </tr>\n",
       "    <tr>\n",
       "      <th>89</th>\n",
       "      <td>e di nuovo sport</td>\n",
       "      <td>bandi online</td>\n",
       "      <td>5.0</td>\n",
       "      <td>di facile e comprensibile utilizzo</td>\n",
       "      <td>[di, facile, e, comprensibile, utilizzo]</td>\n",
       "    </tr>\n",
       "    <tr>\n",
       "      <th>99</th>\n",
       "      <td>smaltimento amianto anno 2019</td>\n",
       "      <td>bandi online</td>\n",
       "      <td>3.0</td>\n",
       "      <td>non ho ricevuto risposta alla richiesta di ass...</td>\n",
       "      <td>[non, ho, ricevuto, risposta, alla, richiesta,...</td>\n",
       "    </tr>\n",
       "    <tr>\n",
       "      <th>195</th>\n",
       "      <td>musei 2016</td>\n",
       "      <td>siage</td>\n",
       "      <td>3.0</td>\n",
       "      <td>non tutti gli automatismi del sistema funziona...</td>\n",
       "      <td>[non, tutti, gli, automatismi, del, sistema, f...</td>\n",
       "    </tr>\n",
       "    <tr>\n",
       "      <th>233</th>\n",
       "      <td>rinnova autoveicoli</td>\n",
       "      <td>bandi online</td>\n",
       "      <td>3.0</td>\n",
       "      <td>non chiari i percorsi per operare  in particol...</td>\n",
       "      <td>[non, chiari, i, percorsi, per, operare, in, p...</td>\n",
       "    </tr>\n",
       "  </tbody>\n",
       "</table>\n",
       "</div>"
      ],
      "text/plain": [
       "                             bando  ...                                         commento_p\n",
       "17                      faber i ed  ...  [ci, sono, troppe, informazioni, da, ripetere,...\n",
       "89                e di nuovo sport  ...           [di, facile, e, comprensibile, utilizzo]\n",
       "99   smaltimento amianto anno 2019  ...  [non, ho, ricevuto, risposta, alla, richiesta,...\n",
       "195                     musei 2016  ...  [non, tutti, gli, automatismi, del, sistema, f...\n",
       "233            rinnova autoveicoli  ...  [non, chiari, i, percorsi, per, operare, in, p...\n",
       "\n",
       "[5 rows x 5 columns]"
      ]
     },
     "execution_count": 12,
     "metadata": {
      "tags": []
     },
     "output_type": "execute_result"
    }
   ],
   "source": [
    "#tokenization\n",
    "data_f['commento_p'] = data_f['commento'].apply(word_tokenize)\n",
    "data_f.head()"
   ]
  },
  {
   "cell_type": "code",
   "execution_count": 13,
   "metadata": {
    "colab": {
     "base_uri": "https://localhost:8080/",
     "height": 279
    },
    "executionInfo": {
     "elapsed": 50,
     "status": "ok",
     "timestamp": 1622722455912,
     "user": {
      "displayName": "Alessandro Portaluppi",
      "photoUrl": "https://lh3.googleusercontent.com/a-/AOh14GhE_rMXzi9qhArC8wQQyX9DixCEEs0oiXsP9wUF=s64",
      "userId": "17342511418312078933"
     },
     "user_tz": -120
    },
    "id": "JQOCChWSEoL_",
    "outputId": "27202a15-b267-4499-f6f4-470a26a165e3"
   },
   "outputs": [
    {
     "data": {
      "text/html": [
       "<div>\n",
       "<style scoped>\n",
       "    .dataframe tbody tr th:only-of-type {\n",
       "        vertical-align: middle;\n",
       "    }\n",
       "\n",
       "    .dataframe tbody tr th {\n",
       "        vertical-align: top;\n",
       "    }\n",
       "\n",
       "    .dataframe thead th {\n",
       "        text-align: right;\n",
       "    }\n",
       "</style>\n",
       "<table border=\"1\" class=\"dataframe\">\n",
       "  <thead>\n",
       "    <tr style=\"text-align: right;\">\n",
       "      <th></th>\n",
       "      <th>bando</th>\n",
       "      <th>piattaforma</th>\n",
       "      <th>punteggio</th>\n",
       "      <th>commento</th>\n",
       "      <th>commento_p</th>\n",
       "    </tr>\n",
       "  </thead>\n",
       "  <tbody>\n",
       "    <tr>\n",
       "      <th>17</th>\n",
       "      <td>faber i ed</td>\n",
       "      <td>bandi online</td>\n",
       "      <td>3.0</td>\n",
       "      <td>ci sono troppe informazioni da ripetere nei mo...</td>\n",
       "      <td>[troppe, informazioni, ripetere, moduli, facil...</td>\n",
       "    </tr>\n",
       "    <tr>\n",
       "      <th>89</th>\n",
       "      <td>e di nuovo sport</td>\n",
       "      <td>bandi online</td>\n",
       "      <td>5.0</td>\n",
       "      <td>di facile e comprensibile utilizzo</td>\n",
       "      <td>[facile, comprensibile, utilizzo]</td>\n",
       "    </tr>\n",
       "    <tr>\n",
       "      <th>99</th>\n",
       "      <td>smaltimento amianto anno 2019</td>\n",
       "      <td>bandi online</td>\n",
       "      <td>3.0</td>\n",
       "      <td>non ho ricevuto risposta alla richiesta di ass...</td>\n",
       "      <td>[non, ricevuto, risposta, richiesta, assitenza]</td>\n",
       "    </tr>\n",
       "    <tr>\n",
       "      <th>195</th>\n",
       "      <td>musei 2016</td>\n",
       "      <td>siage</td>\n",
       "      <td>3.0</td>\n",
       "      <td>non tutti gli automatismi del sistema funziona...</td>\n",
       "      <td>[non, automatismi, sistema, funzionano, stati,...</td>\n",
       "    </tr>\n",
       "    <tr>\n",
       "      <th>233</th>\n",
       "      <td>rinnova autoveicoli</td>\n",
       "      <td>bandi online</td>\n",
       "      <td>3.0</td>\n",
       "      <td>non chiari i percorsi per operare  in particol...</td>\n",
       "      <td>[non, chiari, percorsi, operare, particolare, ...</td>\n",
       "    </tr>\n",
       "  </tbody>\n",
       "</table>\n",
       "</div>"
      ],
      "text/plain": [
       "                             bando  ...                                         commento_p\n",
       "17                      faber i ed  ...  [troppe, informazioni, ripetere, moduli, facil...\n",
       "89                e di nuovo sport  ...                  [facile, comprensibile, utilizzo]\n",
       "99   smaltimento amianto anno 2019  ...    [non, ricevuto, risposta, richiesta, assitenza]\n",
       "195                     musei 2016  ...  [non, automatismi, sistema, funzionano, stati,...\n",
       "233            rinnova autoveicoli  ...  [non, chiari, percorsi, operare, particolare, ...\n",
       "\n",
       "[5 rows x 5 columns]"
      ]
     },
     "execution_count": 13,
     "metadata": {
      "tags": []
     },
     "output_type": "execute_result"
    }
   ],
   "source": [
    "#remove stopwords\n",
    "stopWords = stopwords.words('italian')\n",
    "data_f['commento_p'] = data_f['commento_p'].apply(lambda x: [item for item in x if item == \"non\" or item not in stopWords])\n",
    "data_f.head()"
   ]
  },
  {
   "cell_type": "code",
   "execution_count": 14,
   "metadata": {
    "executionInfo": {
     "elapsed": 48,
     "status": "ok",
     "timestamp": 1622722455914,
     "user": {
      "displayName": "Alessandro Portaluppi",
      "photoUrl": "https://lh3.googleusercontent.com/a-/AOh14GhE_rMXzi9qhArC8wQQyX9DixCEEs0oiXsP9wUF=s64",
      "userId": "17342511418312078933"
     },
     "user_tz": -120
    },
    "id": "DR_9AlHa7c3b"
   },
   "outputs": [],
   "source": [
    "def negate(words):\n",
    "\n",
    "    negation = False\n",
    "    result = []\n",
    "\n",
    "    for word in words:\n",
    "        stripped = word.lower()\n",
    "        negated = \"non_\" + stripped if negation and stripped != \"non\" else stripped\n",
    "        result.append(negated)\n",
    "\n",
    "        if any(neg == word for neg in [\"non\"]):\n",
    "            negation = True\n",
    "\n",
    "    return result"
   ]
  },
  {
   "cell_type": "code",
   "execution_count": 15,
   "metadata": {
    "executionInfo": {
     "elapsed": 48,
     "status": "ok",
     "timestamp": 1622722455916,
     "user": {
      "displayName": "Alessandro Portaluppi",
      "photoUrl": "https://lh3.googleusercontent.com/a-/AOh14GhE_rMXzi9qhArC8wQQyX9DixCEEs0oiXsP9wUF=s64",
      "userId": "17342511418312078933"
     },
     "user_tz": -120
    },
    "id": "cNiINuC3CC2A"
   },
   "outputs": [],
   "source": [
    "#handling negation\n",
    "data_f['commento_p'] = data_f['commento_p'].apply(negate)"
   ]
  },
  {
   "cell_type": "code",
   "execution_count": 16,
   "metadata": {
    "colab": {
     "base_uri": "https://localhost:8080/",
     "height": 296
    },
    "executionInfo": {
     "elapsed": 48,
     "status": "ok",
     "timestamp": 1622722455917,
     "user": {
      "displayName": "Alessandro Portaluppi",
      "photoUrl": "https://lh3.googleusercontent.com/a-/AOh14GhE_rMXzi9qhArC8wQQyX9DixCEEs0oiXsP9wUF=s64",
      "userId": "17342511418312078933"
     },
     "user_tz": -120
    },
    "id": "humvwtNIC6mc",
    "outputId": "b46e2b65-4d8c-407d-adc3-02ecae754c9f"
   },
   "outputs": [
    {
     "data": {
      "text/html": [
       "<div>\n",
       "<style scoped>\n",
       "    .dataframe tbody tr th:only-of-type {\n",
       "        vertical-align: middle;\n",
       "    }\n",
       "\n",
       "    .dataframe tbody tr th {\n",
       "        vertical-align: top;\n",
       "    }\n",
       "\n",
       "    .dataframe thead th {\n",
       "        text-align: right;\n",
       "    }\n",
       "</style>\n",
       "<table border=\"1\" class=\"dataframe\">\n",
       "  <thead>\n",
       "    <tr style=\"text-align: right;\">\n",
       "      <th></th>\n",
       "      <th>bando</th>\n",
       "      <th>piattaforma</th>\n",
       "      <th>punteggio</th>\n",
       "      <th>commento</th>\n",
       "      <th>commento_p</th>\n",
       "    </tr>\n",
       "  </thead>\n",
       "  <tbody>\n",
       "    <tr>\n",
       "      <th>17</th>\n",
       "      <td>faber i ed</td>\n",
       "      <td>bandi online</td>\n",
       "      <td>3.0</td>\n",
       "      <td>ci sono troppe informazioni da ripetere nei mo...</td>\n",
       "      <td>[troppe, informazioni, ripetere, moduli, facil...</td>\n",
       "    </tr>\n",
       "    <tr>\n",
       "      <th>89</th>\n",
       "      <td>e di nuovo sport</td>\n",
       "      <td>bandi online</td>\n",
       "      <td>5.0</td>\n",
       "      <td>di facile e comprensibile utilizzo</td>\n",
       "      <td>[facile, comprensibile, utilizzo]</td>\n",
       "    </tr>\n",
       "    <tr>\n",
       "      <th>99</th>\n",
       "      <td>smaltimento amianto anno 2019</td>\n",
       "      <td>bandi online</td>\n",
       "      <td>3.0</td>\n",
       "      <td>non ho ricevuto risposta alla richiesta di ass...</td>\n",
       "      <td>[non, non_ricevuto, non_risposta, non_richiest...</td>\n",
       "    </tr>\n",
       "    <tr>\n",
       "      <th>195</th>\n",
       "      <td>musei 2016</td>\n",
       "      <td>siage</td>\n",
       "      <td>3.0</td>\n",
       "      <td>non tutti gli automatismi del sistema funziona...</td>\n",
       "      <td>[non, non_automatismi, non_sistema, non_funzio...</td>\n",
       "    </tr>\n",
       "    <tr>\n",
       "      <th>233</th>\n",
       "      <td>rinnova autoveicoli</td>\n",
       "      <td>bandi online</td>\n",
       "      <td>3.0</td>\n",
       "      <td>non chiari i percorsi per operare  in particol...</td>\n",
       "      <td>[non, non_chiari, non_percorsi, non_operare, n...</td>\n",
       "    </tr>\n",
       "  </tbody>\n",
       "</table>\n",
       "</div>"
      ],
      "text/plain": [
       "                             bando  ...                                         commento_p\n",
       "17                      faber i ed  ...  [troppe, informazioni, ripetere, moduli, facil...\n",
       "89                e di nuovo sport  ...                  [facile, comprensibile, utilizzo]\n",
       "99   smaltimento amianto anno 2019  ...  [non, non_ricevuto, non_risposta, non_richiest...\n",
       "195                     musei 2016  ...  [non, non_automatismi, non_sistema, non_funzio...\n",
       "233            rinnova autoveicoli  ...  [non, non_chiari, non_percorsi, non_operare, n...\n",
       "\n",
       "[5 rows x 5 columns]"
      ]
     },
     "execution_count": 16,
     "metadata": {
      "tags": []
     },
     "output_type": "execute_result"
    }
   ],
   "source": [
    "data_f.head()"
   ]
  },
  {
   "cell_type": "code",
   "execution_count": 17,
   "metadata": {
    "colab": {
     "base_uri": "https://localhost:8080/",
     "height": 296
    },
    "executionInfo": {
     "elapsed": 346,
     "status": "ok",
     "timestamp": 1622722456219,
     "user": {
      "displayName": "Alessandro Portaluppi",
      "photoUrl": "https://lh3.googleusercontent.com/a-/AOh14GhE_rMXzi9qhArC8wQQyX9DixCEEs0oiXsP9wUF=s64",
      "userId": "17342511418312078933"
     },
     "user_tz": -120
    },
    "id": "6JmYhKrhFtKC",
    "outputId": "77ef5031-3640-44ff-feb6-f8e9b261ba2b"
   },
   "outputs": [
    {
     "data": {
      "text/html": [
       "<div>\n",
       "<style scoped>\n",
       "    .dataframe tbody tr th:only-of-type {\n",
       "        vertical-align: middle;\n",
       "    }\n",
       "\n",
       "    .dataframe tbody tr th {\n",
       "        vertical-align: top;\n",
       "    }\n",
       "\n",
       "    .dataframe thead th {\n",
       "        text-align: right;\n",
       "    }\n",
       "</style>\n",
       "<table border=\"1\" class=\"dataframe\">\n",
       "  <thead>\n",
       "    <tr style=\"text-align: right;\">\n",
       "      <th></th>\n",
       "      <th>bando</th>\n",
       "      <th>piattaforma</th>\n",
       "      <th>punteggio</th>\n",
       "      <th>commento</th>\n",
       "      <th>commento_p</th>\n",
       "    </tr>\n",
       "  </thead>\n",
       "  <tbody>\n",
       "    <tr>\n",
       "      <th>17</th>\n",
       "      <td>faber i ed</td>\n",
       "      <td>bandi online</td>\n",
       "      <td>3.0</td>\n",
       "      <td>ci sono troppe informazioni da ripetere nei mo...</td>\n",
       "      <td>troppe informazioni ripetere moduli facilmente...</td>\n",
       "    </tr>\n",
       "    <tr>\n",
       "      <th>89</th>\n",
       "      <td>e di nuovo sport</td>\n",
       "      <td>bandi online</td>\n",
       "      <td>5.0</td>\n",
       "      <td>di facile e comprensibile utilizzo</td>\n",
       "      <td>facile comprensibile utilizzo</td>\n",
       "    </tr>\n",
       "    <tr>\n",
       "      <th>99</th>\n",
       "      <td>smaltimento amianto anno 2019</td>\n",
       "      <td>bandi online</td>\n",
       "      <td>3.0</td>\n",
       "      <td>non ho ricevuto risposta alla richiesta di ass...</td>\n",
       "      <td>non non_ricevuto non_risposta non_richiesta no...</td>\n",
       "    </tr>\n",
       "    <tr>\n",
       "      <th>195</th>\n",
       "      <td>musei 2016</td>\n",
       "      <td>siage</td>\n",
       "      <td>3.0</td>\n",
       "      <td>non tutti gli automatismi del sistema funziona...</td>\n",
       "      <td>non non_automatismi non_sistema non_funzionano...</td>\n",
       "    </tr>\n",
       "    <tr>\n",
       "      <th>233</th>\n",
       "      <td>rinnova autoveicoli</td>\n",
       "      <td>bandi online</td>\n",
       "      <td>3.0</td>\n",
       "      <td>non chiari i percorsi per operare  in particol...</td>\n",
       "      <td>non non_chiari non_percorsi non_operare non_pa...</td>\n",
       "    </tr>\n",
       "  </tbody>\n",
       "</table>\n",
       "</div>"
      ],
      "text/plain": [
       "                             bando  ...                                         commento_p\n",
       "17                      faber i ed  ...  troppe informazioni ripetere moduli facilmente...\n",
       "89                e di nuovo sport  ...                      facile comprensibile utilizzo\n",
       "99   smaltimento amianto anno 2019  ...  non non_ricevuto non_risposta non_richiesta no...\n",
       "195                     musei 2016  ...  non non_automatismi non_sistema non_funzionano...\n",
       "233            rinnova autoveicoli  ...  non non_chiari non_percorsi non_operare non_pa...\n",
       "\n",
       "[5 rows x 5 columns]"
      ]
     },
     "execution_count": 17,
     "metadata": {
      "tags": []
     },
     "output_type": "execute_result"
    }
   ],
   "source": [
    "def to_string(tokens):\n",
    "  return \" \".join(token for token in tokens)\n",
    "data_f['commento_p'] = data_f['commento_p'].apply(to_string)\n",
    "data_f.head()"
   ]
  },
  {
   "cell_type": "code",
   "execution_count": 18,
   "metadata": {
    "executionInfo": {
     "elapsed": 17,
     "status": "ok",
     "timestamp": 1622722456229,
     "user": {
      "displayName": "Alessandro Portaluppi",
      "photoUrl": "https://lh3.googleusercontent.com/a-/AOh14GhE_rMXzi9qhArC8wQQyX9DixCEEs0oiXsP9wUF=s64",
      "userId": "17342511418312078933"
     },
     "user_tz": -120
    },
    "id": "BXW6GTNSO4gW"
   },
   "outputs": [],
   "source": [
    "#0 -> negative\n",
    "#1 -> positive\n",
    "data_f['target'] = data_f['punteggio'].apply(lambda x: 1 if x > 3 else 0)"
   ]
  },
  {
   "cell_type": "code",
   "execution_count": 19,
   "metadata": {
    "colab": {
     "base_uri": "https://localhost:8080/",
     "height": 855
    },
    "executionInfo": {
     "elapsed": 20,
     "status": "ok",
     "timestamp": 1622722456233,
     "user": {
      "displayName": "Alessandro Portaluppi",
      "photoUrl": "https://lh3.googleusercontent.com/a-/AOh14GhE_rMXzi9qhArC8wQQyX9DixCEEs0oiXsP9wUF=s64",
      "userId": "17342511418312078933"
     },
     "user_tz": -120
    },
    "id": "8kUvPNPwQ5VO",
    "outputId": "da22ad90-43e6-44fd-fe02-68259d8db2f6"
   },
   "outputs": [
    {
     "data": {
      "text/html": [
       "<div>\n",
       "<style scoped>\n",
       "    .dataframe tbody tr th:only-of-type {\n",
       "        vertical-align: middle;\n",
       "    }\n",
       "\n",
       "    .dataframe tbody tr th {\n",
       "        vertical-align: top;\n",
       "    }\n",
       "\n",
       "    .dataframe thead th {\n",
       "        text-align: right;\n",
       "    }\n",
       "</style>\n",
       "<table border=\"1\" class=\"dataframe\">\n",
       "  <thead>\n",
       "    <tr style=\"text-align: right;\">\n",
       "      <th></th>\n",
       "      <th>bando</th>\n",
       "      <th>piattaforma</th>\n",
       "      <th>punteggio</th>\n",
       "      <th>commento</th>\n",
       "      <th>commento_p</th>\n",
       "      <th>target</th>\n",
       "    </tr>\n",
       "  </thead>\n",
       "  <tbody>\n",
       "    <tr>\n",
       "      <th>17</th>\n",
       "      <td>faber i ed</td>\n",
       "      <td>bandi online</td>\n",
       "      <td>3.0</td>\n",
       "      <td>ci sono troppe informazioni da ripetere nei mo...</td>\n",
       "      <td>troppe informazioni ripetere moduli facilmente...</td>\n",
       "      <td>0</td>\n",
       "    </tr>\n",
       "    <tr>\n",
       "      <th>89</th>\n",
       "      <td>e di nuovo sport</td>\n",
       "      <td>bandi online</td>\n",
       "      <td>5.0</td>\n",
       "      <td>di facile e comprensibile utilizzo</td>\n",
       "      <td>facile comprensibile utilizzo</td>\n",
       "      <td>1</td>\n",
       "    </tr>\n",
       "    <tr>\n",
       "      <th>99</th>\n",
       "      <td>smaltimento amianto anno 2019</td>\n",
       "      <td>bandi online</td>\n",
       "      <td>3.0</td>\n",
       "      <td>non ho ricevuto risposta alla richiesta di ass...</td>\n",
       "      <td>non non_ricevuto non_risposta non_richiesta no...</td>\n",
       "      <td>0</td>\n",
       "    </tr>\n",
       "    <tr>\n",
       "      <th>195</th>\n",
       "      <td>musei 2016</td>\n",
       "      <td>siage</td>\n",
       "      <td>3.0</td>\n",
       "      <td>non tutti gli automatismi del sistema funziona...</td>\n",
       "      <td>non non_automatismi non_sistema non_funzionano...</td>\n",
       "      <td>0</td>\n",
       "    </tr>\n",
       "    <tr>\n",
       "      <th>233</th>\n",
       "      <td>rinnova autoveicoli</td>\n",
       "      <td>bandi online</td>\n",
       "      <td>3.0</td>\n",
       "      <td>non chiari i percorsi per operare  in particol...</td>\n",
       "      <td>non non_chiari non_percorsi non_operare non_pa...</td>\n",
       "      <td>0</td>\n",
       "    </tr>\n",
       "    <tr>\n",
       "      <th>...</th>\n",
       "      <td>...</td>\n",
       "      <td>...</td>\n",
       "      <td>...</td>\n",
       "      <td>...</td>\n",
       "      <td>...</td>\n",
       "      <td>...</td>\n",
       "    </tr>\n",
       "    <tr>\n",
       "      <th>131176</th>\n",
       "      <td>sicurezza_urbana_lotto_b_2017</td>\n",
       "      <td>siage</td>\n",
       "      <td>5.0</td>\n",
       "      <td>e  un sistema  agile  e rapido per interagire ...</td>\n",
       "      <td>sistema agile rapido interagire non non_richie...</td>\n",
       "      <td>1</td>\n",
       "    </tr>\n",
       "    <tr>\n",
       "      <th>131177</th>\n",
       "      <td>smaltimento amianto anno 2019</td>\n",
       "      <td>bandi online</td>\n",
       "      <td>3.0</td>\n",
       "      <td>molto complicato  senza l ausilio di un espert...</td>\n",
       "      <td>molto complicato senza ausilio esperto compute...</td>\n",
       "      <td>0</td>\n",
       "    </tr>\n",
       "    <tr>\n",
       "      <th>131346</th>\n",
       "      <td>bando accumulo anno 2017</td>\n",
       "      <td>bandi online</td>\n",
       "      <td>4.0</td>\n",
       "      <td>tutto ok</td>\n",
       "      <td>ok</td>\n",
       "      <td>1</td>\n",
       "    </tr>\n",
       "    <tr>\n",
       "      <th>131578</th>\n",
       "      <td>asd 2018</td>\n",
       "      <td>bandi online</td>\n",
       "      <td>4.0</td>\n",
       "      <td>buono nel complesso  migliorabile attraverso u...</td>\n",
       "      <td>buono complesso migliorabile attraverso puntua...</td>\n",
       "      <td>1</td>\n",
       "    </tr>\n",
       "    <tr>\n",
       "      <th>131715</th>\n",
       "      <td>bando_operazione_art.24_-_comunita_montana</td>\n",
       "      <td>sisco</td>\n",
       "      <td>2.0</td>\n",
       "      <td>perché essendo un giovane imprenditore ho perc...</td>\n",
       "      <td>giovane imprenditore percepito solo 40</td>\n",
       "      <td>0</td>\n",
       "    </tr>\n",
       "  </tbody>\n",
       "</table>\n",
       "<p>2186 rows × 6 columns</p>\n",
       "</div>"
      ],
      "text/plain": [
       "                                             bando  ... target\n",
       "17                                      faber i ed  ...      0\n",
       "89                                e di nuovo sport  ...      1\n",
       "99                   smaltimento amianto anno 2019  ...      0\n",
       "195                                     musei 2016  ...      0\n",
       "233                            rinnova autoveicoli  ...      0\n",
       "...                                            ...  ...    ...\n",
       "131176               sicurezza_urbana_lotto_b_2017  ...      1\n",
       "131177               smaltimento amianto anno 2019  ...      0\n",
       "131346                    bando accumulo anno 2017  ...      1\n",
       "131578                                    asd 2018  ...      1\n",
       "131715  bando_operazione_art.24_-_comunita_montana  ...      0\n",
       "\n",
       "[2186 rows x 6 columns]"
      ]
     },
     "execution_count": 19,
     "metadata": {
      "tags": []
     },
     "output_type": "execute_result"
    }
   ],
   "source": [
    "data_f"
   ]
  },
  {
   "cell_type": "code",
   "execution_count": 22,
   "metadata": {
    "executionInfo": {
     "elapsed": 369,
     "status": "ok",
     "timestamp": 1622722706507,
     "user": {
      "displayName": "Alessandro Portaluppi",
      "photoUrl": "https://lh3.googleusercontent.com/a-/AOh14GhE_rMXzi9qhArC8wQQyX9DixCEEs0oiXsP9wUF=s64",
      "userId": "17342511418312078933"
     },
     "user_tz": -120
    },
    "id": "i8FktHOny9gK"
   },
   "outputs": [],
   "source": [
    "data_f[[\"bando\",\t\"piattaforma\", \"commento_p\",\t\"target\"]].to_csv('cleaned.csv', index=None)"
   ]
  }
 ],
 "metadata": {
  "colab": {
   "authorship_tag": "ABX9TyNL5xCf8UB+PlC5jBfT5pSc",
   "collapsed_sections": [
    "N9yCUwpdcUsH",
    "ZglFa9frenEr"
   ],
   "name": "Parte #1.ipynb",
   "provenance": [],
   "toc_visible": true
  },
  "kernelspec": {
   "display_name": "Python 3",
   "language": "python",
   "name": "python3"
  },
  "language_info": {
   "codemirror_mode": {
    "name": "ipython",
    "version": 3
   },
   "file_extension": ".py",
   "mimetype": "text/x-python",
   "name": "python",
   "nbconvert_exporter": "python",
   "pygments_lexer": "ipython3",
   "version": "3.8.5"
  }
 },
 "nbformat": 4,
 "nbformat_minor": 4
}
