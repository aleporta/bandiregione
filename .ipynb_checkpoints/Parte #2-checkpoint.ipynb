{
 "cells": [
  {
   "cell_type": "markdown",
   "metadata": {
    "id": "tZ_iIcwxysiM"
   },
   "source": [
    "## Import and setup"
   ]
  },
  {
   "cell_type": "code",
   "execution_count": 1,
   "metadata": {
    "executionInfo": {
     "elapsed": 512,
     "status": "ok",
     "timestamp": 1622728637659,
     "user": {
      "displayName": "Alessandro Portaluppi",
      "photoUrl": "https://lh3.googleusercontent.com/a-/AOh14GhE_rMXzi9qhArC8wQQyX9DixCEEs0oiXsP9wUF=s64",
      "userId": "17342511418312078933"
     },
     "user_tz": -120
    },
    "id": "KDIKeojHyiE1"
   },
   "outputs": [],
   "source": [
    "#supervised learning\n",
    "from sklearn import metrics\n",
    "from sklearn.pipeline import Pipeline\n",
    "from sklearn.feature_extraction.text import TfidfVectorizer\n",
    "from sklearn.model_selection import cross_validate\n",
    "from sklearn.linear_model import LogisticRegression\n",
    "from sklearn.svm import SVC"
   ]
  },
  {
   "cell_type": "code",
   "execution_count": 2,
   "metadata": {
    "executionInfo": {
     "elapsed": 21,
     "status": "ok",
     "timestamp": 1622728638008,
     "user": {
      "displayName": "Alessandro Portaluppi",
      "photoUrl": "https://lh3.googleusercontent.com/a-/AOh14GhE_rMXzi9qhArC8wQQyX9DixCEEs0oiXsP9wUF=s64",
      "userId": "17342511418312078933"
     },
     "user_tz": -120
    },
    "id": "1epbEVCYyv5z"
   },
   "outputs": [],
   "source": [
    "#base\n",
    "import pandas as pd\n",
    "import numpy as np\n",
    "import pickle"
   ]
  },
  {
   "cell_type": "code",
   "execution_count": 3,
   "metadata": {
    "colab": {
     "base_uri": "https://localhost:8080/",
     "height": 447
    },
    "executionInfo": {
     "elapsed": 22,
     "status": "ok",
     "timestamp": 1622728638011,
     "user": {
      "displayName": "Alessandro Portaluppi",
      "photoUrl": "https://lh3.googleusercontent.com/a-/AOh14GhE_rMXzi9qhArC8wQQyX9DixCEEs0oiXsP9wUF=s64",
      "userId": "17342511418312078933"
     },
     "user_tz": -120
    },
    "id": "zV_jDKXWzp6K",
    "outputId": "66b59306-6a65-466e-e58f-eb0a62258baa"
   },
   "outputs": [
    {
     "name": "stdout",
     "output_type": "stream",
     "text": [
      "<class 'pandas.core.frame.DataFrame'>\n",
      "RangeIndex: 2186 entries, 0 to 2185\n",
      "Data columns (total 4 columns):\n",
      " #   Column       Non-Null Count  Dtype \n",
      "---  ------       --------------  ----- \n",
      " 0   bando        2186 non-null   object\n",
      " 1   piattaforma  2185 non-null   object\n",
      " 2   commento_p   2180 non-null   object\n",
      " 3   target       2186 non-null   int64 \n",
      "dtypes: int64(1), object(3)\n",
      "memory usage: 68.4+ KB\n"
     ]
    },
    {
     "data": {
      "text/html": [
       "<div>\n",
       "<style scoped>\n",
       "    .dataframe tbody tr th:only-of-type {\n",
       "        vertical-align: middle;\n",
       "    }\n",
       "\n",
       "    .dataframe tbody tr th {\n",
       "        vertical-align: top;\n",
       "    }\n",
       "\n",
       "    .dataframe thead th {\n",
       "        text-align: right;\n",
       "    }\n",
       "</style>\n",
       "<table border=\"1\" class=\"dataframe\">\n",
       "  <thead>\n",
       "    <tr style=\"text-align: right;\">\n",
       "      <th></th>\n",
       "      <th>bando</th>\n",
       "      <th>piattaforma</th>\n",
       "      <th>commento_p</th>\n",
       "      <th>target</th>\n",
       "    </tr>\n",
       "  </thead>\n",
       "  <tbody>\n",
       "    <tr>\n",
       "      <th>0</th>\n",
       "      <td>faber i ed</td>\n",
       "      <td>bandi online</td>\n",
       "      <td>troppe informazioni ripetere moduli facilmente...</td>\n",
       "      <td>0</td>\n",
       "    </tr>\n",
       "    <tr>\n",
       "      <th>1</th>\n",
       "      <td>e di nuovo sport</td>\n",
       "      <td>bandi online</td>\n",
       "      <td>facile comprensibile utilizzo</td>\n",
       "      <td>1</td>\n",
       "    </tr>\n",
       "    <tr>\n",
       "      <th>2</th>\n",
       "      <td>smaltimento amianto anno 2019</td>\n",
       "      <td>bandi online</td>\n",
       "      <td>non non_ricevuto non_risposta non_richiesta no...</td>\n",
       "      <td>0</td>\n",
       "    </tr>\n",
       "    <tr>\n",
       "      <th>3</th>\n",
       "      <td>musei 2016</td>\n",
       "      <td>siage</td>\n",
       "      <td>non non_automatismi non_sistema non_funzionano...</td>\n",
       "      <td>0</td>\n",
       "    </tr>\n",
       "    <tr>\n",
       "      <th>4</th>\n",
       "      <td>rinnova autoveicoli</td>\n",
       "      <td>bandi online</td>\n",
       "      <td>non non_chiari non_percorsi non_operare non_pa...</td>\n",
       "      <td>0</td>\n",
       "    </tr>\n",
       "  </tbody>\n",
       "</table>\n",
       "</div>"
      ],
      "text/plain": [
       "                           bando   piattaforma  \\\n",
       "0                     faber i ed  bandi online   \n",
       "1               e di nuovo sport  bandi online   \n",
       "2  smaltimento amianto anno 2019  bandi online   \n",
       "3                     musei 2016         siage   \n",
       "4            rinnova autoveicoli  bandi online   \n",
       "\n",
       "                                          commento_p  target  \n",
       "0  troppe informazioni ripetere moduli facilmente...       0  \n",
       "1                      facile comprensibile utilizzo       1  \n",
       "2  non non_ricevuto non_risposta non_richiesta no...       0  \n",
       "3  non non_automatismi non_sistema non_funzionano...       0  \n",
       "4  non non_chiari non_percorsi non_operare non_pa...       0  "
      ]
     },
     "execution_count": 3,
     "metadata": {},
     "output_type": "execute_result"
    }
   ],
   "source": [
    "data = pd.read_csv('results//cleaned.csv')\n",
    "data.info()\n",
    "data.head()"
   ]
  },
  {
   "cell_type": "markdown",
   "metadata": {
    "id": "ZnGfAGZB0Dt6"
   },
   "source": [
    "## Supervised text classification"
   ]
  },
  {
   "cell_type": "code",
   "execution_count": 4,
   "metadata": {
    "executionInfo": {
     "elapsed": 17,
     "status": "ok",
     "timestamp": 1622728638013,
     "user": {
      "displayName": "Alessandro Portaluppi",
      "photoUrl": "https://lh3.googleusercontent.com/a-/AOh14GhE_rMXzi9qhArC8wQQyX9DixCEEs0oiXsP9wUF=s64",
      "userId": "17342511418312078933"
     },
     "user_tz": -120
    },
    "id": "cyskJLR00teI"
   },
   "outputs": [],
   "source": [
    "data.fillna(value = '', inplace=True)"
   ]
  },
  {
   "cell_type": "code",
   "execution_count": 5,
   "metadata": {
    "executionInfo": {
     "elapsed": 18,
     "status": "ok",
     "timestamp": 1622728638014,
     "user": {
      "displayName": "Alessandro Portaluppi",
      "photoUrl": "https://lh3.googleusercontent.com/a-/AOh14GhE_rMXzi9qhArC8wQQyX9DixCEEs0oiXsP9wUF=s64",
      "userId": "17342511418312078933"
     },
     "user_tz": -120
    },
    "id": "ohz325hC18Wh"
   },
   "outputs": [],
   "source": [
    "pipeline = Pipeline([\n",
    "                     (\"tfidf\", TfidfVectorizer(ngram_range=(1, 2))),\n",
    "                     (\"clf\", LogisticRegression(solver='lbfgs'))\n",
    "])"
   ]
  },
  {
   "cell_type": "code",
   "execution_count": 6,
   "metadata": {
    "colab": {
     "base_uri": "https://localhost:8080/"
    },
    "executionInfo": {
     "elapsed": 1194,
     "status": "ok",
     "timestamp": 1622728639191,
     "user": {
      "displayName": "Alessandro Portaluppi",
      "photoUrl": "https://lh3.googleusercontent.com/a-/AOh14GhE_rMXzi9qhArC8wQQyX9DixCEEs0oiXsP9wUF=s64",
      "userId": "17342511418312078933"
     },
     "user_tz": -120
    },
    "id": "-YPEAedA0ouF",
    "outputId": "9368c152-9885-491a-d642-98c016beb364"
   },
   "outputs": [
    {
     "name": "stdout",
     "output_type": "stream",
     "text": [
      "Mean accuracy:  0.7548101940378044\n"
     ]
    }
   ],
   "source": [
    "score = cross_validate(pipeline, X = data['commento_p'], y = data['target'])\n",
    "print(\"Mean accuracy: \", score['test_score'].mean())"
   ]
  },
  {
   "cell_type": "markdown",
   "metadata": {
    "id": "2IwKhaYf4AYw"
   },
   "source": [
    "Final train and pickle out"
   ]
  },
  {
   "cell_type": "code",
   "execution_count": 7,
   "metadata": {
    "executionInfo": {
     "elapsed": 724,
     "status": "ok",
     "timestamp": 1622728699073,
     "user": {
      "displayName": "Alessandro Portaluppi",
      "photoUrl": "https://lh3.googleusercontent.com/a-/AOh14GhE_rMXzi9qhArC8wQQyX9DixCEEs0oiXsP9wUF=s64",
      "userId": "17342511418312078933"
     },
     "user_tz": -120
    },
    "id": "4Nan4Hp44ADo"
   },
   "outputs": [],
   "source": [
    "pipeline = Pipeline([\n",
    "                     (\"tfidf\", TfidfVectorizer(ngram_range = (1, 2))),\n",
    "                     (\"clf\", LogisticRegression(C = 10))\n",
    "])\n",
    "pipeline.fit(data['commento_p'], data['target'])\n",
    "with open('results//final_pipeline.pickle', 'wb') as file:\n",
    "  pickle.dump(pipeline, file)"
   ]
  }
 ],
 "metadata": {
  "colab": {
   "authorship_tag": "ABX9TyME3tf3VikFrE5lrxuHrC48",
   "collapsed_sections": [],
   "name": "Parte #2.ipynb",
   "provenance": [],
   "toc_visible": true
  },
  "kernelspec": {
   "display_name": "Python 3",
   "language": "python",
   "name": "python3"
  },
  "language_info": {
   "codemirror_mode": {
    "name": "ipython",
    "version": 3
   },
   "file_extension": ".py",
   "mimetype": "text/x-python",
   "name": "python",
   "nbconvert_exporter": "python",
   "pygments_lexer": "ipython3",
   "version": "3.8.5"
  }
 },
 "nbformat": 4,
 "nbformat_minor": 4
}
